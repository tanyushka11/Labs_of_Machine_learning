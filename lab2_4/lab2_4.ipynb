{
  "cells": [
    {
      "cell_type": "markdown",
      "metadata": {
        "id": "tlR6dirvNU8a"
      },
      "source": [
        "`Дисциплина: Методы и технологии машинного обучения`   \n",
        "`Уровень подготовки: бакалавриат`   \n",
        "`Направление подготовки: 01.03.02 Прикладная математика и информатика`   \n",
        "\n",
        "\n",
        "\n",
        "\n",
        "\n",
        "# Работа с временным рядом\n",
        "\n",
        "### Работу выполнила Бобина Татьяна Сергеевна\n",
        "###### Данные: цены на момент закрытия на акции компании 2223.SR"
      ]
    },
    {
      "cell_type": "code",
      "execution_count": null,
      "metadata": {
        "id": "ZtNoUlzANcWH"
      },
      "outputs": [],
      "source": [
        "import yfinance as yf\n",
        "\n",
        "import datetime\n",
        "import numpy as np \n",
        "import pandas as pd \n",
        "import matplotlib.pyplot as plt \n",
        "# оценка качества моделей\n",
        "from sklearn.metrics import mean_absolute_error\n",
        "from sklearn.model_selection import TimeSeriesSplit \n",
        "from sklearn.metrics import mean_squared_error\n",
        "\n",
        "# статистические методы\n",
        "import statsmodels.api as sm\n",
        "from statsmodels.tsa.api import ExponentialSmoothing\n",
        "from statsmodels.tsa.stattools import adfuller\n",
        "from statsmodels.graphics.tsaplots import plot_pacf, plot_acf\n",
        "# для быстрой обработки пропусков при расчете среднего\n",
        "from pandas.core.nanops import nanmean as pd_nanmean\n",
        "\n",
        "\n",
        "# для интерактивного отображения прогресса в расчетах\n",
        "import tqdm\n",
        "from tqdm.auto import tqdm\n",
        "\n",
        "import seaborn as sns\n",
        "sns.set_theme()\n",
        "\n",
        "from math import sqrt\n",
        "import itertools\n",
        "import warnings\n",
        "warnings.filterwarnings('ignore')\n",
        "%matplotlib inline"
      ]
    },
    {
      "cell_type": "markdown",
      "metadata": {
        "id": "eESlhxDpOLLN"
      },
      "source": [
        "## Загрузка данных"
      ]
    },
    {
      "cell_type": "code",
      "execution_count": null,
      "metadata": {
        "colab": {
          "base_uri": "https://localhost:8080/"
        },
        "id": "Raz5iY2NNmTh",
        "outputId": "62bf1fda-cf8a-4ad6-bafb-1dd664becde8"
      },
      "outputs": [
        {
          "output_type": "execute_result",
          "data": {
            "text/plain": [
              "(412, 7)"
            ]
          },
          "metadata": {},
          "execution_count": 2
        }
      ],
      "source": [
        "df = yf.Ticker('2223.SR').history(interval = \"1h\", start = '2012-01-01')\n",
        "df.shape"
      ]
    },
    {
      "cell_type": "code",
      "execution_count": null,
      "metadata": {
        "colab": {
          "base_uri": "https://localhost:8080/",
          "height": 455
        },
        "id": "n_eMJOHSNxMs",
        "outputId": "bacc6366-41f2-44da-bebc-4f3fe2aa17a6"
      },
      "outputs": [
        {
          "output_type": "execute_result",
          "data": {
            "text/plain": [
              "                                 Open        High         Low       Close  \\\n",
              "Datetime                                                                    \n",
              "2022-12-28 10:00:00+03:00   94.000000   97.300003   94.000000   97.300003   \n",
              "2022-12-28 11:00:00+03:00   97.300003   97.300003   97.300003   97.300003   \n",
              "2022-12-28 12:00:00+03:00   94.099998   94.099998   94.099998   94.099998   \n",
              "2022-12-28 13:00:00+03:00   94.099998   95.099998   94.099998   95.099998   \n",
              "2022-12-28 14:00:00+03:00   95.099998   95.699997   95.000000   95.400002   \n",
              "...                               ...         ...         ...         ...   \n",
              "2023-05-01 10:00:00+03:00  111.199997  113.800003  110.800003  113.400002   \n",
              "2023-05-01 11:00:00+03:00  113.400002  113.599998  112.800003  113.400002   \n",
              "2023-05-01 12:00:00+03:00  113.199997  113.400002  113.000000  113.199997   \n",
              "2023-05-01 13:00:00+03:00  113.199997  114.000000  113.199997  114.000000   \n",
              "2023-05-01 14:00:00+03:00  114.000000  115.000000  113.800003  114.800003   \n",
              "\n",
              "                            Volume  Dividends  Stock Splits  \n",
              "Datetime                                                     \n",
              "2022-12-28 10:00:00+03:00        0        0.0           0.0  \n",
              "2022-12-28 11:00:00+03:00  2407289        0.0           0.0  \n",
              "2022-12-28 12:00:00+03:00   655083        0.0           0.0  \n",
              "2022-12-28 13:00:00+03:00  1814472        0.0           0.0  \n",
              "2022-12-28 14:00:00+03:00   433831        0.0           0.0  \n",
              "...                            ...        ...           ...  \n",
              "2023-05-01 10:00:00+03:00        0        5.0           0.0  \n",
              "2023-05-01 11:00:00+03:00   165383        0.0           0.0  \n",
              "2023-05-01 12:00:00+03:00   103894        0.0           0.0  \n",
              "2023-05-01 13:00:00+03:00    98726        0.0           0.0  \n",
              "2023-05-01 14:00:00+03:00   335216        0.0           0.0  \n",
              "\n",
              "[412 rows x 7 columns]"
            ],
            "text/html": [
              "\n",
              "  <div id=\"df-2f82b9bd-7168-48e3-8ad0-559faf506fde\">\n",
              "    <div class=\"colab-df-container\">\n",
              "      <div>\n",
              "<style scoped>\n",
              "    .dataframe tbody tr th:only-of-type {\n",
              "        vertical-align: middle;\n",
              "    }\n",
              "\n",
              "    .dataframe tbody tr th {\n",
              "        vertical-align: top;\n",
              "    }\n",
              "\n",
              "    .dataframe thead th {\n",
              "        text-align: right;\n",
              "    }\n",
              "</style>\n",
              "<table border=\"1\" class=\"dataframe\">\n",
              "  <thead>\n",
              "    <tr style=\"text-align: right;\">\n",
              "      <th></th>\n",
              "      <th>Open</th>\n",
              "      <th>High</th>\n",
              "      <th>Low</th>\n",
              "      <th>Close</th>\n",
              "      <th>Volume</th>\n",
              "      <th>Dividends</th>\n",
              "      <th>Stock Splits</th>\n",
              "    </tr>\n",
              "    <tr>\n",
              "      <th>Datetime</th>\n",
              "      <th></th>\n",
              "      <th></th>\n",
              "      <th></th>\n",
              "      <th></th>\n",
              "      <th></th>\n",
              "      <th></th>\n",
              "      <th></th>\n",
              "    </tr>\n",
              "  </thead>\n",
              "  <tbody>\n",
              "    <tr>\n",
              "      <th>2022-12-28 10:00:00+03:00</th>\n",
              "      <td>94.000000</td>\n",
              "      <td>97.300003</td>\n",
              "      <td>94.000000</td>\n",
              "      <td>97.300003</td>\n",
              "      <td>0</td>\n",
              "      <td>0.0</td>\n",
              "      <td>0.0</td>\n",
              "    </tr>\n",
              "    <tr>\n",
              "      <th>2022-12-28 11:00:00+03:00</th>\n",
              "      <td>97.300003</td>\n",
              "      <td>97.300003</td>\n",
              "      <td>97.300003</td>\n",
              "      <td>97.300003</td>\n",
              "      <td>2407289</td>\n",
              "      <td>0.0</td>\n",
              "      <td>0.0</td>\n",
              "    </tr>\n",
              "    <tr>\n",
              "      <th>2022-12-28 12:00:00+03:00</th>\n",
              "      <td>94.099998</td>\n",
              "      <td>94.099998</td>\n",
              "      <td>94.099998</td>\n",
              "      <td>94.099998</td>\n",
              "      <td>655083</td>\n",
              "      <td>0.0</td>\n",
              "      <td>0.0</td>\n",
              "    </tr>\n",
              "    <tr>\n",
              "      <th>2022-12-28 13:00:00+03:00</th>\n",
              "      <td>94.099998</td>\n",
              "      <td>95.099998</td>\n",
              "      <td>94.099998</td>\n",
              "      <td>95.099998</td>\n",
              "      <td>1814472</td>\n",
              "      <td>0.0</td>\n",
              "      <td>0.0</td>\n",
              "    </tr>\n",
              "    <tr>\n",
              "      <th>2022-12-28 14:00:00+03:00</th>\n",
              "      <td>95.099998</td>\n",
              "      <td>95.699997</td>\n",
              "      <td>95.000000</td>\n",
              "      <td>95.400002</td>\n",
              "      <td>433831</td>\n",
              "      <td>0.0</td>\n",
              "      <td>0.0</td>\n",
              "    </tr>\n",
              "    <tr>\n",
              "      <th>...</th>\n",
              "      <td>...</td>\n",
              "      <td>...</td>\n",
              "      <td>...</td>\n",
              "      <td>...</td>\n",
              "      <td>...</td>\n",
              "      <td>...</td>\n",
              "      <td>...</td>\n",
              "    </tr>\n",
              "    <tr>\n",
              "      <th>2023-05-01 10:00:00+03:00</th>\n",
              "      <td>111.199997</td>\n",
              "      <td>113.800003</td>\n",
              "      <td>110.800003</td>\n",
              "      <td>113.400002</td>\n",
              "      <td>0</td>\n",
              "      <td>5.0</td>\n",
              "      <td>0.0</td>\n",
              "    </tr>\n",
              "    <tr>\n",
              "      <th>2023-05-01 11:00:00+03:00</th>\n",
              "      <td>113.400002</td>\n",
              "      <td>113.599998</td>\n",
              "      <td>112.800003</td>\n",
              "      <td>113.400002</td>\n",
              "      <td>165383</td>\n",
              "      <td>0.0</td>\n",
              "      <td>0.0</td>\n",
              "    </tr>\n",
              "    <tr>\n",
              "      <th>2023-05-01 12:00:00+03:00</th>\n",
              "      <td>113.199997</td>\n",
              "      <td>113.400002</td>\n",
              "      <td>113.000000</td>\n",
              "      <td>113.199997</td>\n",
              "      <td>103894</td>\n",
              "      <td>0.0</td>\n",
              "      <td>0.0</td>\n",
              "    </tr>\n",
              "    <tr>\n",
              "      <th>2023-05-01 13:00:00+03:00</th>\n",
              "      <td>113.199997</td>\n",
              "      <td>114.000000</td>\n",
              "      <td>113.199997</td>\n",
              "      <td>114.000000</td>\n",
              "      <td>98726</td>\n",
              "      <td>0.0</td>\n",
              "      <td>0.0</td>\n",
              "    </tr>\n",
              "    <tr>\n",
              "      <th>2023-05-01 14:00:00+03:00</th>\n",
              "      <td>114.000000</td>\n",
              "      <td>115.000000</td>\n",
              "      <td>113.800003</td>\n",
              "      <td>114.800003</td>\n",
              "      <td>335216</td>\n",
              "      <td>0.0</td>\n",
              "      <td>0.0</td>\n",
              "    </tr>\n",
              "  </tbody>\n",
              "</table>\n",
              "<p>412 rows × 7 columns</p>\n",
              "</div>\n",
              "      <button class=\"colab-df-convert\" onclick=\"convertToInteractive('df-2f82b9bd-7168-48e3-8ad0-559faf506fde')\"\n",
              "              title=\"Convert this dataframe to an interactive table.\"\n",
              "              style=\"display:none;\">\n",
              "        \n",
              "  <svg xmlns=\"http://www.w3.org/2000/svg\" height=\"24px\"viewBox=\"0 0 24 24\"\n",
              "       width=\"24px\">\n",
              "    <path d=\"M0 0h24v24H0V0z\" fill=\"none\"/>\n",
              "    <path d=\"M18.56 5.44l.94 2.06.94-2.06 2.06-.94-2.06-.94-.94-2.06-.94 2.06-2.06.94zm-11 1L8.5 8.5l.94-2.06 2.06-.94-2.06-.94L8.5 2.5l-.94 2.06-2.06.94zm10 10l.94 2.06.94-2.06 2.06-.94-2.06-.94-.94-2.06-.94 2.06-2.06.94z\"/><path d=\"M17.41 7.96l-1.37-1.37c-.4-.4-.92-.59-1.43-.59-.52 0-1.04.2-1.43.59L10.3 9.45l-7.72 7.72c-.78.78-.78 2.05 0 2.83L4 21.41c.39.39.9.59 1.41.59.51 0 1.02-.2 1.41-.59l7.78-7.78 2.81-2.81c.8-.78.8-2.07 0-2.86zM5.41 20L4 18.59l7.72-7.72 1.47 1.35L5.41 20z\"/>\n",
              "  </svg>\n",
              "      </button>\n",
              "      \n",
              "  <style>\n",
              "    .colab-df-container {\n",
              "      display:flex;\n",
              "      flex-wrap:wrap;\n",
              "      gap: 12px;\n",
              "    }\n",
              "\n",
              "    .colab-df-convert {\n",
              "      background-color: #E8F0FE;\n",
              "      border: none;\n",
              "      border-radius: 50%;\n",
              "      cursor: pointer;\n",
              "      display: none;\n",
              "      fill: #1967D2;\n",
              "      height: 32px;\n",
              "      padding: 0 0 0 0;\n",
              "      width: 32px;\n",
              "    }\n",
              "\n",
              "    .colab-df-convert:hover {\n",
              "      background-color: #E2EBFA;\n",
              "      box-shadow: 0px 1px 2px rgba(60, 64, 67, 0.3), 0px 1px 3px 1px rgba(60, 64, 67, 0.15);\n",
              "      fill: #174EA6;\n",
              "    }\n",
              "\n",
              "    [theme=dark] .colab-df-convert {\n",
              "      background-color: #3B4455;\n",
              "      fill: #D2E3FC;\n",
              "    }\n",
              "\n",
              "    [theme=dark] .colab-df-convert:hover {\n",
              "      background-color: #434B5C;\n",
              "      box-shadow: 0px 1px 3px 1px rgba(0, 0, 0, 0.15);\n",
              "      filter: drop-shadow(0px 1px 2px rgba(0, 0, 0, 0.3));\n",
              "      fill: #FFFFFF;\n",
              "    }\n",
              "  </style>\n",
              "\n",
              "      <script>\n",
              "        const buttonEl =\n",
              "          document.querySelector('#df-2f82b9bd-7168-48e3-8ad0-559faf506fde button.colab-df-convert');\n",
              "        buttonEl.style.display =\n",
              "          google.colab.kernel.accessAllowed ? 'block' : 'none';\n",
              "\n",
              "        async function convertToInteractive(key) {\n",
              "          const element = document.querySelector('#df-2f82b9bd-7168-48e3-8ad0-559faf506fde');\n",
              "          const dataTable =\n",
              "            await google.colab.kernel.invokeFunction('convertToInteractive',\n",
              "                                                     [key], {});\n",
              "          if (!dataTable) return;\n",
              "\n",
              "          const docLinkHtml = 'Like what you see? Visit the ' +\n",
              "            '<a target=\"_blank\" href=https://colab.research.google.com/notebooks/data_table.ipynb>data table notebook</a>'\n",
              "            + ' to learn more about interactive tables.';\n",
              "          element.innerHTML = '';\n",
              "          dataTable['output_type'] = 'display_data';\n",
              "          await google.colab.output.renderOutput(dataTable, element);\n",
              "          const docLink = document.createElement('div');\n",
              "          docLink.innerHTML = docLinkHtml;\n",
              "          element.appendChild(docLink);\n",
              "        }\n",
              "      </script>\n",
              "    </div>\n",
              "  </div>\n",
              "  "
            ]
          },
          "metadata": {},
          "execution_count": 3
        }
      ],
      "source": [
        "df"
      ]
    },
    {
      "cell_type": "markdown",
      "metadata": {
        "id": "1c_Vi8DAOTfw"
      },
      "source": [
        "### Оставим данные только о дате и цене на момент закрытия\n",
        "\n",
        "> Блок с отступами\n",
        "\n"
      ]
    },
    {
      "cell_type": "code",
      "execution_count": null,
      "metadata": {
        "colab": {
          "base_uri": "https://localhost:8080/",
          "height": 455
        },
        "id": "_6_st0gWOPva",
        "outputId": "9a9fc1cb-cbc5-46c2-d2a5-86ca33df8558"
      },
      "outputs": [
        {
          "output_type": "execute_result",
          "data": {
            "text/plain": [
              "                                Close\n",
              "Datetime                             \n",
              "2022-12-28 10:00:00+03:00   97.300003\n",
              "2022-12-28 11:00:00+03:00   97.300003\n",
              "2022-12-28 12:00:00+03:00   94.099998\n",
              "2022-12-28 13:00:00+03:00   95.099998\n",
              "2022-12-28 14:00:00+03:00   95.400002\n",
              "...                               ...\n",
              "2023-05-01 10:00:00+03:00  113.400002\n",
              "2023-05-01 11:00:00+03:00  113.400002\n",
              "2023-05-01 12:00:00+03:00  113.199997\n",
              "2023-05-01 13:00:00+03:00  114.000000\n",
              "2023-05-01 14:00:00+03:00  114.800003\n",
              "\n",
              "[412 rows x 1 columns]"
            ],
            "text/html": [
              "\n",
              "  <div id=\"df-589c6101-eb2d-4afd-8146-1d095322a4d7\">\n",
              "    <div class=\"colab-df-container\">\n",
              "      <div>\n",
              "<style scoped>\n",
              "    .dataframe tbody tr th:only-of-type {\n",
              "        vertical-align: middle;\n",
              "    }\n",
              "\n",
              "    .dataframe tbody tr th {\n",
              "        vertical-align: top;\n",
              "    }\n",
              "\n",
              "    .dataframe thead th {\n",
              "        text-align: right;\n",
              "    }\n",
              "</style>\n",
              "<table border=\"1\" class=\"dataframe\">\n",
              "  <thead>\n",
              "    <tr style=\"text-align: right;\">\n",
              "      <th></th>\n",
              "      <th>Close</th>\n",
              "    </tr>\n",
              "    <tr>\n",
              "      <th>Datetime</th>\n",
              "      <th></th>\n",
              "    </tr>\n",
              "  </thead>\n",
              "  <tbody>\n",
              "    <tr>\n",
              "      <th>2022-12-28 10:00:00+03:00</th>\n",
              "      <td>97.300003</td>\n",
              "    </tr>\n",
              "    <tr>\n",
              "      <th>2022-12-28 11:00:00+03:00</th>\n",
              "      <td>97.300003</td>\n",
              "    </tr>\n",
              "    <tr>\n",
              "      <th>2022-12-28 12:00:00+03:00</th>\n",
              "      <td>94.099998</td>\n",
              "    </tr>\n",
              "    <tr>\n",
              "      <th>2022-12-28 13:00:00+03:00</th>\n",
              "      <td>95.099998</td>\n",
              "    </tr>\n",
              "    <tr>\n",
              "      <th>2022-12-28 14:00:00+03:00</th>\n",
              "      <td>95.400002</td>\n",
              "    </tr>\n",
              "    <tr>\n",
              "      <th>...</th>\n",
              "      <td>...</td>\n",
              "    </tr>\n",
              "    <tr>\n",
              "      <th>2023-05-01 10:00:00+03:00</th>\n",
              "      <td>113.400002</td>\n",
              "    </tr>\n",
              "    <tr>\n",
              "      <th>2023-05-01 11:00:00+03:00</th>\n",
              "      <td>113.400002</td>\n",
              "    </tr>\n",
              "    <tr>\n",
              "      <th>2023-05-01 12:00:00+03:00</th>\n",
              "      <td>113.199997</td>\n",
              "    </tr>\n",
              "    <tr>\n",
              "      <th>2023-05-01 13:00:00+03:00</th>\n",
              "      <td>114.000000</td>\n",
              "    </tr>\n",
              "    <tr>\n",
              "      <th>2023-05-01 14:00:00+03:00</th>\n",
              "      <td>114.800003</td>\n",
              "    </tr>\n",
              "  </tbody>\n",
              "</table>\n",
              "<p>412 rows × 1 columns</p>\n",
              "</div>\n",
              "      <button class=\"colab-df-convert\" onclick=\"convertToInteractive('df-589c6101-eb2d-4afd-8146-1d095322a4d7')\"\n",
              "              title=\"Convert this dataframe to an interactive table.\"\n",
              "              style=\"display:none;\">\n",
              "        \n",
              "  <svg xmlns=\"http://www.w3.org/2000/svg\" height=\"24px\"viewBox=\"0 0 24 24\"\n",
              "       width=\"24px\">\n",
              "    <path d=\"M0 0h24v24H0V0z\" fill=\"none\"/>\n",
              "    <path d=\"M18.56 5.44l.94 2.06.94-2.06 2.06-.94-2.06-.94-.94-2.06-.94 2.06-2.06.94zm-11 1L8.5 8.5l.94-2.06 2.06-.94-2.06-.94L8.5 2.5l-.94 2.06-2.06.94zm10 10l.94 2.06.94-2.06 2.06-.94-2.06-.94-.94-2.06-.94 2.06-2.06.94z\"/><path d=\"M17.41 7.96l-1.37-1.37c-.4-.4-.92-.59-1.43-.59-.52 0-1.04.2-1.43.59L10.3 9.45l-7.72 7.72c-.78.78-.78 2.05 0 2.83L4 21.41c.39.39.9.59 1.41.59.51 0 1.02-.2 1.41-.59l7.78-7.78 2.81-2.81c.8-.78.8-2.07 0-2.86zM5.41 20L4 18.59l7.72-7.72 1.47 1.35L5.41 20z\"/>\n",
              "  </svg>\n",
              "      </button>\n",
              "      \n",
              "  <style>\n",
              "    .colab-df-container {\n",
              "      display:flex;\n",
              "      flex-wrap:wrap;\n",
              "      gap: 12px;\n",
              "    }\n",
              "\n",
              "    .colab-df-convert {\n",
              "      background-color: #E8F0FE;\n",
              "      border: none;\n",
              "      border-radius: 50%;\n",
              "      cursor: pointer;\n",
              "      display: none;\n",
              "      fill: #1967D2;\n",
              "      height: 32px;\n",
              "      padding: 0 0 0 0;\n",
              "      width: 32px;\n",
              "    }\n",
              "\n",
              "    .colab-df-convert:hover {\n",
              "      background-color: #E2EBFA;\n",
              "      box-shadow: 0px 1px 2px rgba(60, 64, 67, 0.3), 0px 1px 3px 1px rgba(60, 64, 67, 0.15);\n",
              "      fill: #174EA6;\n",
              "    }\n",
              "\n",
              "    [theme=dark] .colab-df-convert {\n",
              "      background-color: #3B4455;\n",
              "      fill: #D2E3FC;\n",
              "    }\n",
              "\n",
              "    [theme=dark] .colab-df-convert:hover {\n",
              "      background-color: #434B5C;\n",
              "      box-shadow: 0px 1px 3px 1px rgba(0, 0, 0, 0.15);\n",
              "      filter: drop-shadow(0px 1px 2px rgba(0, 0, 0, 0.3));\n",
              "      fill: #FFFFFF;\n",
              "    }\n",
              "  </style>\n",
              "\n",
              "      <script>\n",
              "        const buttonEl =\n",
              "          document.querySelector('#df-589c6101-eb2d-4afd-8146-1d095322a4d7 button.colab-df-convert');\n",
              "        buttonEl.style.display =\n",
              "          google.colab.kernel.accessAllowed ? 'block' : 'none';\n",
              "\n",
              "        async function convertToInteractive(key) {\n",
              "          const element = document.querySelector('#df-589c6101-eb2d-4afd-8146-1d095322a4d7');\n",
              "          const dataTable =\n",
              "            await google.colab.kernel.invokeFunction('convertToInteractive',\n",
              "                                                     [key], {});\n",
              "          if (!dataTable) return;\n",
              "\n",
              "          const docLinkHtml = 'Like what you see? Visit the ' +\n",
              "            '<a target=\"_blank\" href=https://colab.research.google.com/notebooks/data_table.ipynb>data table notebook</a>'\n",
              "            + ' to learn more about interactive tables.';\n",
              "          element.innerHTML = '';\n",
              "          dataTable['output_type'] = 'display_data';\n",
              "          await google.colab.output.renderOutput(dataTable, element);\n",
              "          const docLink = document.createElement('div');\n",
              "          docLink.innerHTML = docLinkHtml;\n",
              "          element.appendChild(docLink);\n",
              "        }\n",
              "      </script>\n",
              "    </div>\n",
              "  </div>\n",
              "  "
            ]
          },
          "metadata": {},
          "execution_count": 5
        }
      ],
      "source": [
        "df = df[['Close']]\n",
        "df"
      ]
    },
    {
      "cell_type": "markdown",
      "metadata": {
        "id": "XtlXzvaFPADg"
      },
      "source": [
        "### Строим график временного ряда"
      ]
    },
    {
      "cell_type": "code",
      "execution_count": null,
      "metadata": {
        "colab": {
          "base_uri": "https://localhost:8080/",
          "height": 578
        },
        "id": "Kd5OVe_mPGum",
        "outputId": "2db4345c-099a-436f-dd68-7ca66c943486"
      },
      "outputs": [
        {
          "output_type": "execute_result",
          "data": {
            "text/plain": [
              "<Axes: title={'center': 'Цена на момент закрытия на акции компании'}, xlabel='Datetime'>"
            ]
          },
          "metadata": {},
          "execution_count": 6
        },
        {
          "output_type": "display_data",
          "data": {
            "text/plain": [
              "<Figure size 1400x600 with 1 Axes>"
            ],
            "image/png": "[encoded data removed]"
          },
          "metadata": {}
        }
      ],
      "source": [
        "df.Close.plot( figsize=(14,6),title= 'Цена на момент закрытия на акции компании', fontsize=11, color=\"green\")"
      ]
    },
    {
      "cell_type": "markdown",
      "metadata": {
        "id": "u55N8vrbUUk_"
      },
      "source": [
        "По графику нельзя точно сказать стоило или нет вкладыватся в акции компании. Видно,что ряд не стационарен. В нём можно выразить трендовую зависимость.\n",
        "График показывает, что цены на акции в основном исправно с периодичными колебаниями росли в течении 4х месяцев. Можно заметить, что существует большое количество короткосрочных колебаний цен, которые не подчиняются общему тренду и вызваны внешними факторами.\n"
      ]
    },
    {
      "cell_type": "markdown",
      "metadata": {
        "id": "sZCou_5HYEH3"
      },
      "source": [
        "### Тест Дикки-Фуллера на стационарность\n",
        "Проверим на уровне значимости 0.05"
      ]
    },
    {
      "cell_type": "code",
      "execution_count": null,
      "metadata": {
        "id": "fpgcnSJwYRjv"
      },
      "outputs": [],
      "source": [
        "def test_stationarity(timeseries, window = 24, cutoff = 0.05):\n",
        "\n",
        "    #Determing rolling statistics\n",
        "    rolmean = timeseries.rolling(window).mean()\n",
        "    rolstd = timeseries.rolling(window).std()\n",
        "\n",
        "    #Plot rolling statistics:\n",
        "    fig = plt.figure(figsize=(15, 4))\n",
        "    orig = plt.plot(timeseries, color='green',label='Original')\n",
        "    mean = plt.plot(rolmean, color='red', label='Rolling Mean')\n",
        "    plt.legend(loc='best')\n",
        "    plt.title('Rolling Mean & Standard Deviation')\n",
        "    plt.show()\n",
        "    std = plt.plot(rolstd, color='black', label = 'Rolling Std')\n",
        "    \n",
        "    plt.show()\n",
        "    \n",
        "    #Perform Dickey-Fuller test:\n",
        "    # p-value\n",
        "    print('Results of Dickey-Fuller Test:')\n",
        "    dftest = adfuller(timeseries.values,autolag='AIC' )\n",
        "    dfoutput = pd.Series(dftest[0:4], index=['Test Statistic','p-value','#Lags Used','Number of Observations Used'])\n",
        "    for key,value in dftest[4].items():\n",
        "        dfoutput['Critical Value (%s)'%key] = value\n",
        "    pvalue = dftest[1]\n",
        "    if pvalue < cutoff:\n",
        "        print('p-value = %.4f. The series is likely stationary.' % pvalue)\n",
        "    else:\n",
        "        print('p-value = %.4f. The series is likely non-stationary.' % pvalue)\n",
        "    \n",
        "    print(dfoutput)"
      ]
    },
    {
      "cell_type": "code",
      "execution_count": null,
      "metadata": {
        "id": "DwKZF6hcZUgx"
      },
      "outputs": [],
      "source": [
        "sample_data = df.Close"
      ]
    },
    {
      "cell_type": "code",
      "execution_count": null,
      "metadata": {
        "colab": {
          "base_uri": "https://localhost:8080/",
          "height": 986
        },
        "id": "iKt4TxidZU2G",
        "outputId": "cc4dc414-5d7d-4337-c5fe-5a5b4eb1ec7b"
      },
      "outputs": [
        {
          "output_type": "display_data",
          "data": {
            "text/plain": [
              "<Figure size 1500x400 with 1 Axes>"
            ],
            "image/png": "[encoded data removed]"
          },
          "metadata": {}
        },
        {
          "output_type": "display_data",
          "data": {
            "text/plain": [
              "<Figure size 640x480 with 1 Axes>"
            ],
            "image/png": "[encoded data removed]"
          },
          "metadata": {}
        },
        {
          "output_type": "stream",
          "name": "stdout",
          "text": [
            "Results of Dickey-Fuller Test:\n",
            "p-value = 0.8503. The series is likely non-stationary.\n",
            "Test Statistic                  -0.686223\n",
            "p-value                          0.850286\n",
            "#Lags Used                       0.000000\n",
            "Number of Observations Used    411.000000\n",
            "Critical Value (1%)             -3.446361\n",
            "Critical Value (5%)             -2.868598\n",
            "Critical Value (10%)            -2.570530\n",
            "dtype: float64\n"
          ]
        }
      ],
      "source": [
        "test_stationarity(sample_data)"
      ]
    },
    {
      "cell_type": "markdown",
      "metadata": {
        "id": "UbvfzJcqZtXg"
      },
      "source": [
        "На основании теста Dickey-Fuller, можно сделать вывод о том, что временной ряд не является стационарным. Это подтверждается большим значением p-value, превышающим уровень значимости 0.05, а также недостаточным значением тестовой статистики для отклонения от нулевой гипотезы о нестационарности ряда."
      ]
    },
    {
      "cell_type": "markdown",
      "metadata": {
        "id": "DJqa9ooKaj83"
      },
      "source": [
        "### Методология Бокса-Дженкинса"
      ]
    },
    {
      "cell_type": "code",
      "execution_count": null,
      "metadata": {
        "colab": {
          "base_uri": "https://localhost:8080/",
          "height": 897
        },
        "id": "sd-GNjbgZ6_i",
        "outputId": "b4649934-f214-4290-8c06-e1c807e2b8cb"
      },
      "outputs": [
        {
          "output_type": "execute_result",
          "data": {
            "text/plain": [
              "<Figure size 640x480 with 1 Axes>"
            ],
            "image/png": "[encoded data removed]"
          },
          "metadata": {},
          "execution_count": 10
        },
        {
          "output_type": "display_data",
          "data": {
            "text/plain": [
              "<Figure size 640x480 with 1 Axes>"
            ],
            "image/png": "[encoded data removed]"
          },
          "metadata": {}
        }
      ],
      "source": [
        "plot_acf(df.Close, lags=30)"
      ]
    },
    {
      "cell_type": "code",
      "execution_count": null,
      "metadata": {
        "colab": {
          "base_uri": "https://localhost:8080/",
          "height": 897
        },
        "id": "Gt2Q2Xa0bQ5e",
        "outputId": "e86a90f6-7f28-4e85-a35b-dc5442ed189c"
      },
      "outputs": [
        {
          "output_type": "execute_result",
          "data": {
            "text/plain": [
              "<Figure size 640x480 with 1 Axes>"
            ],
            "image/png": "[encoded data removed]"
          },
          "metadata": {},
          "execution_count": 11
        },
        {
          "output_type": "display_data",
          "data": {
            "text/plain": [
              "<Figure size 640x480 with 1 Axes>"
            ],
            "image/png": "[encoded data removed]"
          },
          "metadata": {}
        }
      ],
      "source": [
        "plot_acf(df.Close, lags=100)"
      ]
    },
    {
      "cell_type": "markdown",
      "metadata": {
        "id": "RHICc1j_bu08"
      },
      "source": [
        "Результаты построение PACF и ACF не удовлетворительны. Сложно определить примерные значения p,q для построения ARIMA-модели. Предлагается для начала избавится от трендовой зависимости\n",
        "\n",
        "### Удалениe линейной трендовой составляющей из временного ряда"
      ]
    },
    {
      "cell_type": "code",
      "execution_count": null,
      "metadata": {
        "id": "bImuXZapdUEr"
      },
      "outputs": [],
      "source": [
        "df[\"index\"] = range(1, len(df)+1, 1)"
      ]
    },
    {
      "cell_type": "code",
      "execution_count": null,
      "metadata": {
        "colab": {
          "base_uri": "https://localhost:8080/"
        },
        "id": "rGpKO3i3dYaK",
        "outputId": "632cc1e3-500a-4300-aae6-79f7c6b08c34"
      },
      "outputs": [
        {
          "output_type": "stream",
          "name": "stdout",
          "text": [
            "Y = 0.055803296279246184 * X + 93.1040467805709\n",
            "coefficient of determination: 0.8810120097417239\n"
          ]
        }
      ],
      "source": [
        "from sklearn.linear_model import LinearRegression\n",
        "\n",
        "X = np.array(df[\"index\"]).reshape((-1, 1))\n",
        "Y = np.array(df[\"Close\"])\n",
        "\n",
        "model = LinearRegression().fit(X,Y)\n",
        "print('Y =', model.coef_[0], '* X +', model.intercept_)\n",
        "print('coefficient of determination:', model.score(X, Y))"
      ]
    },
    {
      "cell_type": "code",
      "execution_count": null,
      "metadata": {
        "colab": {
          "base_uri": "https://localhost:8080/",
          "height": 455
        },
        "id": "YXOZKRbzdi3f",
        "outputId": "cca1debb-3fad-4ad8-9885-d02b18a09f84"
      },
      "outputs": [
        {
          "output_type": "execute_result",
          "data": {
            "text/plain": [
              "                                Close  index   Close_t\n",
              "Datetime                                              \n",
              "2022-12-28 10:00:00+03:00   97.300003      1  4.140153\n",
              "2022-12-28 11:00:00+03:00   97.300003      2  4.084350\n",
              "2022-12-28 12:00:00+03:00   94.099998      3  0.828542\n",
              "2022-12-28 13:00:00+03:00   95.099998      4  1.772739\n",
              "2022-12-28 14:00:00+03:00   95.400002      5  2.016938\n",
              "...                               ...    ...       ...\n",
              "2023-05-01 10:00:00+03:00  113.400002    408 -2.471790\n",
              "2023-05-01 11:00:00+03:00  113.400002    409 -2.527593\n",
              "2023-05-01 12:00:00+03:00  113.199997    410 -2.783401\n",
              "2023-05-01 13:00:00+03:00  114.000000    411 -2.039202\n",
              "2023-05-01 14:00:00+03:00  114.800003    412 -1.295002\n",
              "\n",
              "[412 rows x 3 columns]"
            ],
            "text/html": [
              "\n",
              "  <div id=\"df-c0742409-4f7e-45ba-a7dc-48e608abdd40\">\n",
              "    <div class=\"colab-df-container\">\n",
              "      <div>\n",
              "<style scoped>\n",
              "    .dataframe tbody tr th:only-of-type {\n",
              "        vertical-align: middle;\n",
              "    }\n",
              "\n",
              "    .dataframe tbody tr th {\n",
              "        vertical-align: top;\n",
              "    }\n",
              "\n",
              "    .dataframe thead th {\n",
              "        text-align: right;\n",
              "    }\n",
              "</style>\n",
              "<table border=\"1\" class=\"dataframe\">\n",
              "  <thead>\n",
              "    <tr style=\"text-align: right;\">\n",
              "      <th></th>\n",
              "      <th>Close</th>\n",
              "      <th>index</th>\n",
              "      <th>Close_t</th>\n",
              "    </tr>\n",
              "    <tr>\n",
              "      <th>Datetime</th>\n",
              "      <th></th>\n",
              "      <th></th>\n",
              "      <th></th>\n",
              "    </tr>\n",
              "  </thead>\n",
              "  <tbody>\n",
              "    <tr>\n",
              "      <th>2022-12-28 10:00:00+03:00</th>\n",
              "      <td>97.300003</td>\n",
              "      <td>1</td>\n",
              "      <td>4.140153</td>\n",
              "    </tr>\n",
              "    <tr>\n",
              "      <th>2022-12-28 11:00:00+03:00</th>\n",
              "      <td>97.300003</td>\n",
              "      <td>2</td>\n",
              "      <td>4.084350</td>\n",
              "    </tr>\n",
              "    <tr>\n",
              "      <th>2022-12-28 12:00:00+03:00</th>\n",
              "      <td>94.099998</td>\n",
              "      <td>3</td>\n",
              "      <td>0.828542</td>\n",
              "    </tr>\n",
              "    <tr>\n",
              "      <th>2022-12-28 13:00:00+03:00</th>\n",
              "      <td>95.099998</td>\n",
              "      <td>4</td>\n",
              "      <td>1.772739</td>\n",
              "    </tr>\n",
              "    <tr>\n",
              "      <th>2022-12-28 14:00:00+03:00</th>\n",
              "      <td>95.400002</td>\n",
              "      <td>5</td>\n",
              "      <td>2.016938</td>\n",
              "    </tr>\n",
              "    <tr>\n",
              "      <th>...</th>\n",
              "      <td>...</td>\n",
              "      <td>...</td>\n",
              "      <td>...</td>\n",
              "    </tr>\n",
              "    <tr>\n",
              "      <th>2023-05-01 10:00:00+03:00</th>\n",
              "      <td>113.400002</td>\n",
              "      <td>408</td>\n",
              "      <td>-2.471790</td>\n",
              "    </tr>\n",
              "    <tr>\n",
              "      <th>2023-05-01 11:00:00+03:00</th>\n",
              "      <td>113.400002</td>\n",
              "      <td>409</td>\n",
              "      <td>-2.527593</td>\n",
              "    </tr>\n",
              "    <tr>\n",
              "      <th>2023-05-01 12:00:00+03:00</th>\n",
              "      <td>113.199997</td>\n",
              "      <td>410</td>\n",
              "      <td>-2.783401</td>\n",
              "    </tr>\n",
              "    <tr>\n",
              "      <th>2023-05-01 13:00:00+03:00</th>\n",
              "      <td>114.000000</td>\n",
              "      <td>411</td>\n",
              "      <td>-2.039202</td>\n",
              "    </tr>\n",
              "    <tr>\n",
              "      <th>2023-05-01 14:00:00+03:00</th>\n",
              "      <td>114.800003</td>\n",
              "      <td>412</td>\n",
              "      <td>-1.295002</td>\n",
              "    </tr>\n",
              "  </tbody>\n",
              "</table>\n",
              "<p>412 rows × 3 columns</p>\n",
              "</div>\n",
              "      <button class=\"colab-df-convert\" onclick=\"convertToInteractive('df-c0742409-4f7e-45ba-a7dc-48e608abdd40')\"\n",
              "              title=\"Convert this dataframe to an interactive table.\"\n",
              "              style=\"display:none;\">\n",
              "        \n",
              "  <svg xmlns=\"http://www.w3.org/2000/svg\" height=\"24px\"viewBox=\"0 0 24 24\"\n",
              "       width=\"24px\">\n",
              "    <path d=\"M0 0h24v24H0V0z\" fill=\"none\"/>\n",
              "    <path d=\"M18.56 5.44l.94 2.06.94-2.06 2.06-.94-2.06-.94-.94-2.06-.94 2.06-2.06.94zm-11 1L8.5 8.5l.94-2.06 2.06-.94-2.06-.94L8.5 2.5l-.94 2.06-2.06.94zm10 10l.94 2.06.94-2.06 2.06-.94-2.06-.94-.94-2.06-.94 2.06-2.06.94z\"/><path d=\"M17.41 7.96l-1.37-1.37c-.4-.4-.92-.59-1.43-.59-.52 0-1.04.2-1.43.59L10.3 9.45l-7.72 7.72c-.78.78-.78 2.05 0 2.83L4 21.41c.39.39.9.59 1.41.59.51 0 1.02-.2 1.41-.59l7.78-7.78 2.81-2.81c.8-.78.8-2.07 0-2.86zM5.41 20L4 18.59l7.72-7.72 1.47 1.35L5.41 20z\"/>\n",
              "  </svg>\n",
              "      </button>\n",
              "      \n",
              "  <style>\n",
              "    .colab-df-container {\n",
              "      display:flex;\n",
              "      flex-wrap:wrap;\n",
              "      gap: 12px;\n",
              "    }\n",
              "\n",
              "    .colab-df-convert {\n",
              "      background-color: #E8F0FE;\n",
              "      border: none;\n",
              "      border-radius: 50%;\n",
              "      cursor: pointer;\n",
              "      display: none;\n",
              "      fill: #1967D2;\n",
              "      height: 32px;\n",
              "      padding: 0 0 0 0;\n",
              "      width: 32px;\n",
              "    }\n",
              "\n",
              "    .colab-df-convert:hover {\n",
              "      background-color: #E2EBFA;\n",
              "      box-shadow: 0px 1px 2px rgba(60, 64, 67, 0.3), 0px 1px 3px 1px rgba(60, 64, 67, 0.15);\n",
              "      fill: #174EA6;\n",
              "    }\n",
              "\n",
              "    [theme=dark] .colab-df-convert {\n",
              "      background-color: #3B4455;\n",
              "      fill: #D2E3FC;\n",
              "    }\n",
              "\n",
              "    [theme=dark] .colab-df-convert:hover {\n",
              "      background-color: #434B5C;\n",
              "      box-shadow: 0px 1px 3px 1px rgba(0, 0, 0, 0.15);\n",
              "      filter: drop-shadow(0px 1px 2px rgba(0, 0, 0, 0.3));\n",
              "      fill: #FFFFFF;\n",
              "    }\n",
              "  </style>\n",
              "\n",
              "      <script>\n",
              "        const buttonEl =\n",
              "          document.querySelector('#df-c0742409-4f7e-45ba-a7dc-48e608abdd40 button.colab-df-convert');\n",
              "        buttonEl.style.display =\n",
              "          google.colab.kernel.accessAllowed ? 'block' : 'none';\n",
              "\n",
              "        async function convertToInteractive(key) {\n",
              "          const element = document.querySelector('#df-c0742409-4f7e-45ba-a7dc-48e608abdd40');\n",
              "          const dataTable =\n",
              "            await google.colab.kernel.invokeFunction('convertToInteractive',\n",
              "                                                     [key], {});\n",
              "          if (!dataTable) return;\n",
              "\n",
              "          const docLinkHtml = 'Like what you see? Visit the ' +\n",
              "            '<a target=\"_blank\" href=https://colab.research.google.com/notebooks/data_table.ipynb>data table notebook</a>'\n",
              "            + ' to learn more about interactive tables.';\n",
              "          element.innerHTML = '';\n",
              "          dataTable['output_type'] = 'display_data';\n",
              "          await google.colab.output.renderOutput(dataTable, element);\n",
              "          const docLink = document.createElement('div');\n",
              "          docLink.innerHTML = docLinkHtml;\n",
              "          element.appendChild(docLink);\n",
              "        }\n",
              "      </script>\n",
              "    </div>\n",
              "  </div>\n",
              "  "
            ]
          },
          "metadata": {},
          "execution_count": 14
        }
      ],
      "source": [
        "df[\"Close_t\"] = df[\"Close\"] - (df[\"index\"] * model.coef_[0] + model.intercept_)\n",
        "df"
      ]
    },
    {
      "cell_type": "code",
      "execution_count": null,
      "metadata": {
        "colab": {
          "base_uri": "https://localhost:8080/",
          "height": 578
        },
        "id": "khhmiHJedkxE",
        "outputId": "2f8eac08-7a12-46cb-bf9c-e92f244c52b8"
      },
      "outputs": [
        {
          "output_type": "execute_result",
          "data": {
            "text/plain": [
              "<Axes: title={'center': 'Без тренда'}, xlabel='Datetime'>"
            ]
          },
          "metadata": {},
          "execution_count": 15
        },
        {
          "output_type": "display_data",
          "data": {
            "text/plain": [
              "<Figure size 1400x600 with 1 Axes>"
            ],
            "image/png": "[encoded data removed]"
          },
          "metadata": {}
        }
      ],
      "source": [
        "df.Close_t.plot( figsize=(14,6),title= 'Без тренда', fontsize=11, color=\"green\")"
      ]
    },
    {
      "cell_type": "markdown",
      "metadata": {
        "id": "j1kxh_D0eaGd"
      },
      "source": [
        "## Тест Дикки-Фуллера без тренда"
      ]
    },
    {
      "cell_type": "code",
      "execution_count": null,
      "metadata": {
        "colab": {
          "base_uri": "https://localhost:8080/"
        },
        "id": "o1VKdeYpeVqa",
        "outputId": "9c3b21a3-6a3e-4984-ef5c-9efc3d153209"
      },
      "outputs": [
        {
          "output_type": "stream",
          "name": "stdout",
          "text": [
            "p-value = 0.0338. The series is likely stationary.\n"
          ]
        }
      ],
      "source": [
        "dftest_t = adfuller(df.Close_t,autolag='AIC')\n",
        "\n",
        "if dftest_t[1] < 0.05:\n",
        "    print('p-value = %.4f. The series is likely stationary.' % dftest_t[1])\n",
        "else:\n",
        "    print('p-value = %.4f. The series is likely non-stationary.' % dftest_t[1])"
      ]
    },
    {
      "cell_type": "markdown",
      "metadata": {
        "id": "W1AI3arcgno6"
      },
      "source": [
        "## Разделим данные"
      ]
    },
    {
      "cell_type": "code",
      "execution_count": null,
      "metadata": {
        "colab": {
          "base_uri": "https://localhost:8080/",
          "height": 472
        },
        "id": "1BEqx-Q0gqnX",
        "outputId": "7d84fc69-34f8-476d-91c6-e8c14c378ed3"
      },
      "outputs": [
        {
          "output_type": "stream",
          "name": "stdout",
          "text": [
            "(325, 3) (87, 3)\n"
          ]
        },
        {
          "output_type": "execute_result",
          "data": {
            "text/plain": [
              "                                Close  index   Close_t\n",
              "Datetime                                              \n",
              "2023-03-30 13:00:00+03:00  112.400002    326  1.104080\n",
              "2023-03-30 14:00:00+03:00  111.599998    327  0.248274\n",
              "2023-04-02 10:00:00+03:00  113.400002    328  1.992474\n",
              "2023-04-02 11:00:00+03:00  113.400002    329  1.936670\n",
              "2023-04-02 12:00:00+03:00  113.000000    330  1.480865\n",
              "...                               ...    ...       ...\n",
              "2023-05-01 10:00:00+03:00  113.400002    408 -2.471790\n",
              "2023-05-01 11:00:00+03:00  113.400002    409 -2.527593\n",
              "2023-05-01 12:00:00+03:00  113.199997    410 -2.783401\n",
              "2023-05-01 13:00:00+03:00  114.000000    411 -2.039202\n",
              "2023-05-01 14:00:00+03:00  114.800003    412 -1.295002\n",
              "\n",
              "[87 rows x 3 columns]"
            ],
            "text/html": [
              "\n",
              "  <div id=\"df-b42005a8-f6da-455d-ad1c-fe9575abd36f\">\n",
              "    <div class=\"colab-df-container\">\n",
              "      <div>\n",
              "<style scoped>\n",
              "    .dataframe tbody tr th:only-of-type {\n",
              "        vertical-align: middle;\n",
              "    }\n",
              "\n",
              "    .dataframe tbody tr th {\n",
              "        vertical-align: top;\n",
              "    }\n",
              "\n",
              "    .dataframe thead th {\n",
              "        text-align: right;\n",
              "    }\n",
              "</style>\n",
              "<table border=\"1\" class=\"dataframe\">\n",
              "  <thead>\n",
              "    <tr style=\"text-align: right;\">\n",
              "      <th></th>\n",
              "      <th>Close</th>\n",
              "      <th>index</th>\n",
              "      <th>Close_t</th>\n",
              "    </tr>\n",
              "    <tr>\n",
              "      <th>Datetime</th>\n",
              "      <th></th>\n",
              "      <th></th>\n",
              "      <th></th>\n",
              "    </tr>\n",
              "  </thead>\n",
              "  <tbody>\n",
              "    <tr>\n",
              "      <th>2023-03-30 13:00:00+03:00</th>\n",
              "      <td>112.400002</td>\n",
              "      <td>326</td>\n",
              "      <td>1.104080</td>\n",
              "    </tr>\n",
              "    <tr>\n",
              "      <th>2023-03-30 14:00:00+03:00</th>\n",
              "      <td>111.599998</td>\n",
              "      <td>327</td>\n",
              "      <td>0.248274</td>\n",
              "    </tr>\n",
              "    <tr>\n",
              "      <th>2023-04-02 10:00:00+03:00</th>\n",
              "      <td>113.400002</td>\n",
              "      <td>328</td>\n",
              "      <td>1.992474</td>\n",
              "    </tr>\n",
              "    <tr>\n",
              "      <th>2023-04-02 11:00:00+03:00</th>\n",
              "      <td>113.400002</td>\n",
              "      <td>329</td>\n",
              "      <td>1.936670</td>\n",
              "    </tr>\n",
              "    <tr>\n",
              "      <th>2023-04-02 12:00:00+03:00</th>\n",
              "      <td>113.000000</td>\n",
              "      <td>330</td>\n",
              "      <td>1.480865</td>\n",
              "    </tr>\n",
              "    <tr>\n",
              "      <th>...</th>\n",
              "      <td>...</td>\n",
              "      <td>...</td>\n",
              "      <td>...</td>\n",
              "    </tr>\n",
              "    <tr>\n",
              "      <th>2023-05-01 10:00:00+03:00</th>\n",
              "      <td>113.400002</td>\n",
              "      <td>408</td>\n",
              "      <td>-2.471790</td>\n",
              "    </tr>\n",
              "    <tr>\n",
              "      <th>2023-05-01 11:00:00+03:00</th>\n",
              "      <td>113.400002</td>\n",
              "      <td>409</td>\n",
              "      <td>-2.527593</td>\n",
              "    </tr>\n",
              "    <tr>\n",
              "      <th>2023-05-01 12:00:00+03:00</th>\n",
              "      <td>113.199997</td>\n",
              "      <td>410</td>\n",
              "      <td>-2.783401</td>\n",
              "    </tr>\n",
              "    <tr>\n",
              "      <th>2023-05-01 13:00:00+03:00</th>\n",
              "      <td>114.000000</td>\n",
              "      <td>411</td>\n",
              "      <td>-2.039202</td>\n",
              "    </tr>\n",
              "    <tr>\n",
              "      <th>2023-05-01 14:00:00+03:00</th>\n",
              "      <td>114.800003</td>\n",
              "      <td>412</td>\n",
              "      <td>-1.295002</td>\n",
              "    </tr>\n",
              "  </tbody>\n",
              "</table>\n",
              "<p>87 rows × 3 columns</p>\n",
              "</div>\n",
              "      <button class=\"colab-df-convert\" onclick=\"convertToInteractive('df-b42005a8-f6da-455d-ad1c-fe9575abd36f')\"\n",
              "              title=\"Convert this dataframe to an interactive table.\"\n",
              "              style=\"display:none;\">\n",
              "        \n",
              "  <svg xmlns=\"http://www.w3.org/2000/svg\" height=\"24px\"viewBox=\"0 0 24 24\"\n",
              "       width=\"24px\">\n",
              "    <path d=\"M0 0h24v24H0V0z\" fill=\"none\"/>\n",
              "    <path d=\"M18.56 5.44l.94 2.06.94-2.06 2.06-.94-2.06-.94-.94-2.06-.94 2.06-2.06.94zm-11 1L8.5 8.5l.94-2.06 2.06-.94-2.06-.94L8.5 2.5l-.94 2.06-2.06.94zm10 10l.94 2.06.94-2.06 2.06-.94-2.06-.94-.94-2.06-.94 2.06-2.06.94z\"/><path d=\"M17.41 7.96l-1.37-1.37c-.4-.4-.92-.59-1.43-.59-.52 0-1.04.2-1.43.59L10.3 9.45l-7.72 7.72c-.78.78-.78 2.05 0 2.83L4 21.41c.39.39.9.59 1.41.59.51 0 1.02-.2 1.41-.59l7.78-7.78 2.81-2.81c.8-.78.8-2.07 0-2.86zM5.41 20L4 18.59l7.72-7.72 1.47 1.35L5.41 20z\"/>\n",
              "  </svg>\n",
              "      </button>\n",
              "      \n",
              "  <style>\n",
              "    .colab-df-container {\n",
              "      display:flex;\n",
              "      flex-wrap:wrap;\n",
              "      gap: 12px;\n",
              "    }\n",
              "\n",
              "    .colab-df-convert {\n",
              "      background-color: #E8F0FE;\n",
              "      border: none;\n",
              "      border-radius: 50%;\n",
              "      cursor: pointer;\n",
              "      display: none;\n",
              "      fill: #1967D2;\n",
              "      height: 32px;\n",
              "      padding: 0 0 0 0;\n",
              "      width: 32px;\n",
              "    }\n",
              "\n",
              "    .colab-df-convert:hover {\n",
              "      background-color: #E2EBFA;\n",
              "      box-shadow: 0px 1px 2px rgba(60, 64, 67, 0.3), 0px 1px 3px 1px rgba(60, 64, 67, 0.15);\n",
              "      fill: #174EA6;\n",
              "    }\n",
              "\n",
              "    [theme=dark] .colab-df-convert {\n",
              "      background-color: #3B4455;\n",
              "      fill: #D2E3FC;\n",
              "    }\n",
              "\n",
              "    [theme=dark] .colab-df-convert:hover {\n",
              "      background-color: #434B5C;\n",
              "      box-shadow: 0px 1px 3px 1px rgba(0, 0, 0, 0.15);\n",
              "      filter: drop-shadow(0px 1px 2px rgba(0, 0, 0, 0.3));\n",
              "      fill: #FFFFFF;\n",
              "    }\n",
              "  </style>\n",
              "\n",
              "      <script>\n",
              "        const buttonEl =\n",
              "          document.querySelector('#df-b42005a8-f6da-455d-ad1c-fe9575abd36f button.colab-df-convert');\n",
              "        buttonEl.style.display =\n",
              "          google.colab.kernel.accessAllowed ? 'block' : 'none';\n",
              "\n",
              "        async function convertToInteractive(key) {\n",
              "          const element = document.querySelector('#df-b42005a8-f6da-455d-ad1c-fe9575abd36f');\n",
              "          const dataTable =\n",
              "            await google.colab.kernel.invokeFunction('convertToInteractive',\n",
              "                                                     [key], {});\n",
              "          if (!dataTable) return;\n",
              "\n",
              "          const docLinkHtml = 'Like what you see? Visit the ' +\n",
              "            '<a target=\"_blank\" href=https://colab.research.google.com/notebooks/data_table.ipynb>data table notebook</a>'\n",
              "            + ' to learn more about interactive tables.';\n",
              "          element.innerHTML = '';\n",
              "          dataTable['output_type'] = 'display_data';\n",
              "          await google.colab.output.renderOutput(dataTable, element);\n",
              "          const docLink = document.createElement('div');\n",
              "          docLink.innerHTML = docLinkHtml;\n",
              "          element.appendChild(docLink);\n",
              "        }\n",
              "      </script>\n",
              "    </div>\n",
              "  </div>\n",
              "  "
            ]
          },
          "metadata": {},
          "execution_count": 17
        }
      ],
      "source": [
        "from sklearn. model_selection import train_test_split\n",
        "\n",
        "train, test = df[0:325], df[325:]\n",
        "print(train.shape, test.shape)\n",
        "test"
      ]
    },
    {
      "cell_type": "code",
      "execution_count": null,
      "metadata": {
        "colab": {
          "base_uri": "https://localhost:8080/",
          "height": 66,
          "referenced_widgets": [
            "a117fc9b91814a128fe7e9c6919594ce",
            "8e2b9b6539444b30b33351d796d092d2",
            "c39c76ee8e6b4cbfb9f2a12cfbdc9f85",
            "09a1ae49add14ff985bbcd88c744318a",
            "af3a1e355a3f40528e8e38076848caab",
            "fa4735bdccf74d3d8ef80e06bf23ec06",
            "2b63a9eab4cd4b5b955f8f189c25b217",
            "5aac3d003c0b4bcaa7414d5aa926511e",
            "a1dad5e5516a4c5fad812c55d0e0776d",
            "4e157e41918346b9a930f70fe730d226",
            "9b1d342f19de480787b991c45ff5a5de"
          ]
        },
        "id": "0Q_UHouvihNL",
        "outputId": "dd2b79df-b596-4de8-a0fe-da6925375623"
      },
      "outputs": [
        {
          "output_type": "display_data",
          "data": {
            "text/plain": [
              "  0%|          | 0/240 [00:00<?, ?it/s]"
            ],
            "application/vnd.jupyter.widget-view+json": {
              "version_major": 2,
              "version_minor": 0,
              "model_id": "a117fc9b91814a128fe7e9c6919594ce"
            }
          },
          "metadata": {}
        },
        {
          "output_type": "stream",
          "name": "stdout",
          "text": [
            "(5, 0, 9) 0.41109117012709284\n"
          ]
        }
      ],
      "source": [
        "p = range(0,8)\n",
        "d = range(0,3)\n",
        "q = range(0,10)\n",
        "pdq = list(itertools.product(p, d, q))\n",
        "best_params = (0,0,0)\n",
        "best_MSE = np.inf\n",
        "\n",
        "for params in tqdm(pdq):\n",
        "    \n",
        "    model_test = sm.tsa.arima.ARIMA(train.Close_t, order = params)\n",
        "    result_test = model_test.fit()\n",
        "    if result_test.mse < best_MSE:\n",
        "        best_params = params\n",
        "        best_MSE = result_test.mse\n",
        "print(best_params, best_MSE)"
      ]
    },
    {
      "cell_type": "markdown",
      "metadata": {
        "id": "0bNUL_4pkc8d"
      },
      "source": [
        "Таким образом на преобразованных данных можно построить модель ARIMA(5,0,9)"
      ]
    },
    {
      "cell_type": "code",
      "execution_count": null,
      "metadata": {
        "colab": {
          "base_uri": "https://localhost:8080/",
          "height": 66,
          "referenced_widgets": [
            "8952a1a4e806435ca7a2fd67ccfa081f",
            "dbb1d4c2c57d4c6abcd1d99e475e8766",
            "b091735d2148493892b1194bbe7a0158",
            "4a205915efb94e9db00ed0d7ec9b4f32",
            "8740afbee3034ec08e1b4611dcdc1196",
            "20851668627a4e3f80eece64542b76b4",
            "01784050cb4f4b38ad03cf91b958aa7f",
            "d3d21333dd6a42f3ac8a7f24736313d7",
            "0d19899984444afe843ea0f8119fbed6",
            "47124fb6ca144d0dabb5877ebd992cb9",
            "68d24b9251fb463eb030c822b78e9249"
          ]
        },
        "id": "EosCSl5Pkhcn",
        "outputId": "4453d7e6-6fdc-48f7-9570-ca0a470a1625"
      },
      "outputs": [
        {
          "output_type": "display_data",
          "data": {
            "text/plain": [
              "  0%|          | 0/240 [00:00<?, ?it/s]"
            ],
            "application/vnd.jupyter.widget-view+json": {
              "version_major": 2,
              "version_minor": 0,
              "model_id": "8952a1a4e806435ca7a2fd67ccfa081f"
            }
          },
          "metadata": {}
        },
        {
          "output_type": "stream",
          "name": "stdout",
          "text": [
            "(5, 0, 6) 0.4499953081537257\n"
          ]
        }
      ],
      "source": [
        "p = range(0,8)\n",
        "d = range(0,3)\n",
        "q = range(0,10)\n",
        "pdq = list(itertools.product(p, d, q))\n",
        "best_params = (0,0,0)\n",
        "best_MSE = np.inf\n",
        "\n",
        "for params in tqdm(pdq):\n",
        "    \n",
        "    model_test = sm.tsa.arima.ARIMA(train.Close, order = params)\n",
        "    result_test = model_test.fit()\n",
        "    if result_test.mse < best_MSE:\n",
        "        best_params = params\n",
        "        best_MSE = result_test.mse\n",
        "print(best_params, best_MSE)"
      ]
    },
    {
      "cell_type": "markdown",
      "metadata": {
        "id": "5gH3dKtvm1xF"
      },
      "source": [
        "Таким образом на исходных данных можно построить модель ARIMA(5,0,6). Даёт лучшие результаты"
      ]
    },
    {
      "cell_type": "markdown",
      "metadata": {
        "id": "uQxO2VlyoHOv"
      },
      "source": [
        "## Проверим модель на тестовой выборке"
      ]
    },
    {
      "cell_type": "code",
      "execution_count": null,
      "metadata": {
        "colab": {
          "base_uri": "https://localhost:8080/"
        },
        "id": "CaSc-4kyn-Oq",
        "outputId": "2ecfa89a-c648-4355-9f92-74683ec16c03"
      },
      "outputs": [
        {
          "output_type": "execute_result",
          "data": {
            "text/plain": [
              "Datetime\n",
              "2023-03-30 13:00:00+03:00    112.400002\n",
              "2023-03-30 14:00:00+03:00    111.599998\n",
              "2023-04-02 10:00:00+03:00    113.400002\n",
              "2023-04-02 11:00:00+03:00    113.400002\n",
              "2023-04-02 12:00:00+03:00    113.000000\n",
              "                                ...    \n",
              "2023-05-01 10:00:00+03:00    113.400002\n",
              "2023-05-01 11:00:00+03:00    113.400002\n",
              "2023-05-01 12:00:00+03:00    113.199997\n",
              "2023-05-01 13:00:00+03:00    114.000000\n",
              "2023-05-01 14:00:00+03:00    114.800003\n",
              "Name: Close, Length: 87, dtype: float64"
            ]
          },
          "metadata": {},
          "execution_count": 85
        }
      ],
      "source": [
        "test.Close\n"
      ]
    },
    {
      "cell_type": "code",
      "execution_count": null,
      "metadata": {
        "colab": {
          "base_uri": "https://localhost:8080/"
        },
        "id": "NDF-q1OSojFS",
        "outputId": "910c4f5d-70bb-44a1-971d-5aaf60436e01"
      },
      "outputs": [
        {
          "output_type": "execute_result",
          "data": {
            "text/plain": [
              "1.5777664865938856"
            ]
          },
          "metadata": {},
          "execution_count": 86
        }
      ],
      "source": [
        "def mean_absolute_percentage_error(y_true, y_pred): \n",
        "    return np.mean(np.abs((y_true - y_pred) / y_true)) * 100\n",
        "model_test = sm.tsa.arima.ARIMA(test.Close, order = (2,1,4))\n",
        "result_test = model_test.fit()\n",
        "preds = result_test.predict(dynamic=False)\n",
        "\n",
        "mean_absolute_percentage_error(test.Close, preds)"
      ]
    },
    {
      "cell_type": "code",
      "execution_count": null,
      "metadata": {
        "colab": {
          "base_uri": "https://localhost:8080/",
          "height": 804
        },
        "id": "ZYwqd7btpGoM",
        "outputId": "0d00b7f5-0b39-4824-e609-3c58e67a0de9"
      },
      "outputs": [
        {
          "output_type": "display_data",
          "data": {
            "text/plain": [
              "<Figure size 1500x900 with 4 Axes>"
            ],
            "image/png": "[encoded data removed]"
          },
          "metadata": {}
        }
      ],
      "source": [
        "result_test.plot_diagnostics(figsize=(15, 9))\n",
        "plt.show()"
      ]
    },
    {
      "cell_type": "markdown",
      "metadata": {
        "id": "WRvF8lYrpcaB"
      },
      "source": [
        "## Построим прогноз"
      ]
    },
    {
      "cell_type": "code",
      "execution_count": null,
      "metadata": {
        "colab": {
          "base_uri": "https://localhost:8080/"
        },
        "id": "8mygtYAdpG07",
        "outputId": "673dfd70-b592-46f0-e341-0db4f52f862f"
      },
      "outputs": [
        {
          "output_type": "stream",
          "name": "stdout",
          "text": [
            "   lower Close  upper Close\n",
            "0   113.295488   115.993588\n",
            "1   112.832011   116.432075\n",
            "2   112.380667   116.551256\n",
            "3   112.140499   116.729580\n",
            "4   112.145010   117.065961\n",
            "5   111.846626   117.175936\n",
            "6   111.584328   117.268411\n",
            "7   111.592230   117.550177\n",
            "8   111.403712   117.683343\n",
            "9   111.136774   117.731111\n"
          ]
        },
        {
          "output_type": "execute_result",
          "data": {
            "text/plain": [
              "pandas.core.frame.DataFrame"
            ]
          },
          "metadata": {},
          "execution_count": 88
        }
      ],
      "source": [
        "# Получить прогноз на 10 шагов вперёд\n",
        "pred_uc = result_test.get_forecast(steps=10)\n",
        "# Получить интервал прогноза\n",
        "pred_ci = pred_uc.conf_int().reset_index(drop=True)\n",
        "print(pred_ci)\n",
        "type(pred_ci)"
      ]
    },
    {
      "cell_type": "code",
      "execution_count": null,
      "metadata": {
        "colab": {
          "base_uri": "https://localhost:8080/"
        },
        "id": "wVc4htmPqoq7",
        "outputId": "2b319d27-3a78-4028-e1f9-ca1bee12d6f6"
      },
      "outputs": [
        {
          "output_type": "execute_result",
          "data": {
            "text/plain": [
              "Datetime\n",
              "2023-03-30 13:00:00+03:00    112.400002\n",
              "2023-03-30 14:00:00+03:00    111.599998\n",
              "2023-04-02 10:00:00+03:00    113.400002\n",
              "2023-04-02 11:00:00+03:00    113.400002\n",
              "2023-04-02 12:00:00+03:00    113.000000\n",
              "                                ...    \n",
              "2023-05-01 10:00:00+03:00    113.400002\n",
              "2023-05-01 11:00:00+03:00    113.400002\n",
              "2023-05-01 12:00:00+03:00    113.199997\n",
              "2023-05-01 13:00:00+03:00    114.000000\n",
              "2023-05-01 14:00:00+03:00    114.800003\n",
              "Name: Close, Length: 87, dtype: float64"
            ]
          },
          "metadata": {},
          "execution_count": 89
        }
      ],
      "source": [
        "y = pd.Series(test.Close, index=test.index)\n",
        "y"
      ]
    },
    {
      "cell_type": "code",
      "execution_count": null,
      "metadata": {
        "colab": {
          "base_uri": "https://localhost:8080/"
        },
        "id": "29KjTdpHqoud",
        "outputId": "7af6eb6c-ec15-4b78-d1fd-3d13791b8747"
      },
      "outputs": [
        {
          "output_type": "execute_result",
          "data": {
            "text/plain": [
              "DatetimeIndex(['2023-05-01 14:00:00+03:00', '2023-05-01 15:00:00+03:00',\n",
              "               '2023-05-01 16:00:00+03:00', '2023-05-01 17:00:00+03:00',\n",
              "               '2023-05-01 18:00:00+03:00', '2023-05-01 19:00:00+03:00',\n",
              "               '2023-05-01 20:00:00+03:00', '2023-05-01 21:00:00+03:00',\n",
              "               '2023-05-01 22:00:00+03:00', '2023-05-01 23:00:00+03:00'],\n",
              "              dtype='datetime64[ns, pytz.FixedOffset(180)]', freq='H')"
            ]
          },
          "metadata": {},
          "execution_count": 90
        }
      ],
      "source": [
        "dti = pd.date_range(\"2023-05-01 14:00:00+03:00\", periods=10, freq=\"1H\")\n",
        "dti"
      ]
    },
    {
      "cell_type": "code",
      "execution_count": null,
      "metadata": {
        "colab": {
          "base_uri": "https://localhost:8080/"
        },
        "id": "5E9SOZz6ruvH",
        "outputId": "82c1d8e1-28fc-4e1f-c4cc-deafac5ac418"
      },
      "outputs": [
        {
          "output_type": "execute_result",
          "data": {
            "text/plain": [
              "pandas.core.frame.DataFrame"
            ]
          },
          "metadata": {},
          "execution_count": 91
        }
      ],
      "source": [
        "y_pred = pred_ci.set_index(dti)\n",
        "y_pred.index.names = ['Date']\n",
        "y_pred\n",
        "type(y_pred)"
      ]
    },
    {
      "cell_type": "code",
      "execution_count": null,
      "metadata": {
        "colab": {
          "base_uri": "https://localhost:8080/"
        },
        "id": "FI4cbxEfrvAB",
        "outputId": "6206a10f-6e58-44a2-a835-ad07dcfd6926"
      },
      "outputs": [
        {
          "output_type": "stream",
          "name": "stdout",
          "text": [
            "[114.64453797 114.63204323 114.46596143 114.43503953 114.60548568\n",
            " 114.51128058 114.42636945 114.57120327 114.54352776 114.43394231]\n"
          ]
        },
        {
          "output_type": "execute_result",
          "data": {
            "text/plain": [
              "pandas.core.series.Series"
            ]
          },
          "metadata": {},
          "execution_count": 93
        }
      ],
      "source": [
        "y_pred_mean = pred_uc.predicted_mean\n",
        "df = pd.DataFrame(y_pred_mean)\n",
        "df = df.to_numpy()\n",
        "print(df[:,0])\n",
        "y_pred_mean_dti = pd.Series(data=df[:,0],index=dti)\n",
        "y_pred_mean_dti.index.names = ['Date']\n",
        "y_pred_mean_dti\n",
        "type(y_pred_mean_dti)"
      ]
    },
    {
      "cell_type": "code",
      "execution_count": null,
      "metadata": {
        "colab": {
          "base_uri": "https://localhost:8080/",
          "height": 810
        },
        "id": "TfMF6bVrr_W5",
        "outputId": "7b738709-c6f0-4777-9098-f936775de5b6"
      },
      "outputs": [
        {
          "output_type": "display_data",
          "data": {
            "text/plain": [
              "<Figure size 1500x1000 with 1 Axes>"
            ],
            "image/png": "[encoded data removed]"
          },
          "metadata": {}
        }
      ],
      "source": [
        "ax = y.plot(label='observed', figsize=(15, 10))\n",
        "y_pred_mean_dti.plot(ax=ax, label='Forecast')\n",
        "ax.fill_between(y_pred.index,\n",
        "y_pred.iloc[:, 0],\n",
        "y_pred.iloc[:, 1], color='green', alpha=.25)\n",
        "ax.set_xlabel('Date')\n",
        "ax.set_ylabel('Close')\n",
        "plt.legend()\n",
        "plt.show()\n"
      ]
    },
    {
      "cell_type": "markdown",
      "source": [
        "Исходя из анализа графика, можно сделать вывод, что в будущем цены на акции компании скорее всего не будут повышаться."
      ],
      "metadata": {
        "id": "E3FT9qDJX9P1"
      }
    },
    {
      "cell_type": "markdown",
      "source": [
        "## Построение моделей для прогноза по разным периодам"
      ],
      "metadata": {
        "id": "PTTiTL8bYEdG"
      }
    },
    {
      "cell_type": "code",
      "source": [
        "df = yf.Ticker('2223.SR').history(interval = \"1h\", start = '2013-01-01')\n",
        "df = df[['Close']]\n",
        "df.Close.plot( figsize=(15,6),title= 'Цена закрытия акции', fontsize=14, color=\"blue\")"
      ],
      "metadata": {
        "colab": {
          "base_uri": "https://localhost:8080/",
          "height": 594
        },
        "id": "CZfYpz76YJYT",
        "outputId": "d43b3b33-66d9-4ebb-c820-0e66898a273f"
      },
      "execution_count": null,
      "outputs": [
        {
          "output_type": "execute_result",
          "data": {
            "text/plain": [
              "<Axes: title={'center': 'Цена закрытия акции'}, xlabel='Datetime'>"
            ]
          },
          "metadata": {},
          "execution_count": 95
        },
        {
          "output_type": "display_data",
          "data": {
            "text/plain": [
              "<Figure size 1500x600 with 1 Axes>"
            ],
            "image/png": "[encoded data removed]"
          },
          "metadata": {}
        }
      ]
    },
    {
      "cell_type": "markdown",
      "source": [
        "### Требуется разделить исходные данные на 3 блока Предлагается взять такие интервалы:\n",
        "\n",
        "1. 2023-01-01 - 2023-02-01\n",
        "\n",
        "2. 2023-02-01 - 2023-03-15\n",
        "\n",
        "3. 2023-03-15 - н.в."
      ],
      "metadata": {
        "id": "AcTWqeUJYzLW"
      }
    },
    {
      "cell_type": "code",
      "source": [
        "df_1 = df.index < '2023-02-01 00:00:00+03:00'\n",
        "df_1 = df.loc[df_1]\n",
        "df_1"
      ],
      "metadata": {
        "colab": {
          "base_uri": "https://localhost:8080/",
          "height": 455
        },
        "id": "FYtEUaHqYvMO",
        "outputId": "73872f4f-5a04-4535-d51e-e90c1eb9673c"
      },
      "execution_count": null,
      "outputs": [
        {
          "output_type": "execute_result",
          "data": {
            "text/plain": [
              "                               Close\n",
              "Datetime                            \n",
              "2022-12-28 10:00:00+03:00  97.300003\n",
              "2022-12-28 11:00:00+03:00  97.300003\n",
              "2022-12-28 12:00:00+03:00  94.099998\n",
              "2022-12-28 13:00:00+03:00  95.099998\n",
              "2022-12-28 14:00:00+03:00  95.400002\n",
              "...                              ...\n",
              "2023-01-31 10:00:00+03:00  98.800003\n",
              "2023-01-31 11:00:00+03:00  99.000000\n",
              "2023-01-31 12:00:00+03:00  99.099998\n",
              "2023-01-31 13:00:00+03:00  98.900002\n",
              "2023-01-31 14:00:00+03:00  98.800003\n",
              "\n",
              "[125 rows x 1 columns]"
            ],
            "text/html": [
              "\n",
              "  <div id=\"df-be742cdd-3b40-4106-ad99-ae2ad920d9ea\">\n",
              "    <div class=\"colab-df-container\">\n",
              "      <div>\n",
              "<style scoped>\n",
              "    .dataframe tbody tr th:only-of-type {\n",
              "        vertical-align: middle;\n",
              "    }\n",
              "\n",
              "    .dataframe tbody tr th {\n",
              "        vertical-align: top;\n",
              "    }\n",
              "\n",
              "    .dataframe thead th {\n",
              "        text-align: right;\n",
              "    }\n",
              "</style>\n",
              "<table border=\"1\" class=\"dataframe\">\n",
              "  <thead>\n",
              "    <tr style=\"text-align: right;\">\n",
              "      <th></th>\n",
              "      <th>Close</th>\n",
              "    </tr>\n",
              "    <tr>\n",
              "      <th>Datetime</th>\n",
              "      <th></th>\n",
              "    </tr>\n",
              "  </thead>\n",
              "  <tbody>\n",
              "    <tr>\n",
              "      <th>2022-12-28 10:00:00+03:00</th>\n",
              "      <td>97.300003</td>\n",
              "    </tr>\n",
              "    <tr>\n",
              "      <th>2022-12-28 11:00:00+03:00</th>\n",
              "      <td>97.300003</td>\n",
              "    </tr>\n",
              "    <tr>\n",
              "      <th>2022-12-28 12:00:00+03:00</th>\n",
              "      <td>94.099998</td>\n",
              "    </tr>\n",
              "    <tr>\n",
              "      <th>2022-12-28 13:00:00+03:00</th>\n",
              "      <td>95.099998</td>\n",
              "    </tr>\n",
              "    <tr>\n",
              "      <th>2022-12-28 14:00:00+03:00</th>\n",
              "      <td>95.400002</td>\n",
              "    </tr>\n",
              "    <tr>\n",
              "      <th>...</th>\n",
              "      <td>...</td>\n",
              "    </tr>\n",
              "    <tr>\n",
              "      <th>2023-01-31 10:00:00+03:00</th>\n",
              "      <td>98.800003</td>\n",
              "    </tr>\n",
              "    <tr>\n",
              "      <th>2023-01-31 11:00:00+03:00</th>\n",
              "      <td>99.000000</td>\n",
              "    </tr>\n",
              "    <tr>\n",
              "      <th>2023-01-31 12:00:00+03:00</th>\n",
              "      <td>99.099998</td>\n",
              "    </tr>\n",
              "    <tr>\n",
              "      <th>2023-01-31 13:00:00+03:00</th>\n",
              "      <td>98.900002</td>\n",
              "    </tr>\n",
              "    <tr>\n",
              "      <th>2023-01-31 14:00:00+03:00</th>\n",
              "      <td>98.800003</td>\n",
              "    </tr>\n",
              "  </tbody>\n",
              "</table>\n",
              "<p>125 rows × 1 columns</p>\n",
              "</div>\n",
              "      <button class=\"colab-df-convert\" onclick=\"convertToInteractive('df-be742cdd-3b40-4106-ad99-ae2ad920d9ea')\"\n",
              "              title=\"Convert this dataframe to an interactive table.\"\n",
              "              style=\"display:none;\">\n",
              "        \n",
              "  <svg xmlns=\"http://www.w3.org/2000/svg\" height=\"24px\"viewBox=\"0 0 24 24\"\n",
              "       width=\"24px\">\n",
              "    <path d=\"M0 0h24v24H0V0z\" fill=\"none\"/>\n",
              "    <path d=\"M18.56 5.44l.94 2.06.94-2.06 2.06-.94-2.06-.94-.94-2.06-.94 2.06-2.06.94zm-11 1L8.5 8.5l.94-2.06 2.06-.94-2.06-.94L8.5 2.5l-.94 2.06-2.06.94zm10 10l.94 2.06.94-2.06 2.06-.94-2.06-.94-.94-2.06-.94 2.06-2.06.94z\"/><path d=\"M17.41 7.96l-1.37-1.37c-.4-.4-.92-.59-1.43-.59-.52 0-1.04.2-1.43.59L10.3 9.45l-7.72 7.72c-.78.78-.78 2.05 0 2.83L4 21.41c.39.39.9.59 1.41.59.51 0 1.02-.2 1.41-.59l7.78-7.78 2.81-2.81c.8-.78.8-2.07 0-2.86zM5.41 20L4 18.59l7.72-7.72 1.47 1.35L5.41 20z\"/>\n",
              "  </svg>\n",
              "      </button>\n",
              "      \n",
              "  <style>\n",
              "    .colab-df-container {\n",
              "      display:flex;\n",
              "      flex-wrap:wrap;\n",
              "      gap: 12px;\n",
              "    }\n",
              "\n",
              "    .colab-df-convert {\n",
              "      background-color: #E8F0FE;\n",
              "      border: none;\n",
              "      border-radius: 50%;\n",
              "      cursor: pointer;\n",
              "      display: none;\n",
              "      fill: #1967D2;\n",
              "      height: 32px;\n",
              "      padding: 0 0 0 0;\n",
              "      width: 32px;\n",
              "    }\n",
              "\n",
              "    .colab-df-convert:hover {\n",
              "      background-color: #E2EBFA;\n",
              "      box-shadow: 0px 1px 2px rgba(60, 64, 67, 0.3), 0px 1px 3px 1px rgba(60, 64, 67, 0.15);\n",
              "      fill: #174EA6;\n",
              "    }\n",
              "\n",
              "    [theme=dark] .colab-df-convert {\n",
              "      background-color: #3B4455;\n",
              "      fill: #D2E3FC;\n",
              "    }\n",
              "\n",
              "    [theme=dark] .colab-df-convert:hover {\n",
              "      background-color: #434B5C;\n",
              "      box-shadow: 0px 1px 3px 1px rgba(0, 0, 0, 0.15);\n",
              "      filter: drop-shadow(0px 1px 2px rgba(0, 0, 0, 0.3));\n",
              "      fill: #FFFFFF;\n",
              "    }\n",
              "  </style>\n",
              "\n",
              "      <script>\n",
              "        const buttonEl =\n",
              "          document.querySelector('#df-be742cdd-3b40-4106-ad99-ae2ad920d9ea button.colab-df-convert');\n",
              "        buttonEl.style.display =\n",
              "          google.colab.kernel.accessAllowed ? 'block' : 'none';\n",
              "\n",
              "        async function convertToInteractive(key) {\n",
              "          const element = document.querySelector('#df-be742cdd-3b40-4106-ad99-ae2ad920d9ea');\n",
              "          const dataTable =\n",
              "            await google.colab.kernel.invokeFunction('convertToInteractive',\n",
              "                                                     [key], {});\n",
              "          if (!dataTable) return;\n",
              "\n",
              "          const docLinkHtml = 'Like what you see? Visit the ' +\n",
              "            '<a target=\"_blank\" href=https://colab.research.google.com/notebooks/data_table.ipynb>data table notebook</a>'\n",
              "            + ' to learn more about interactive tables.';\n",
              "          element.innerHTML = '';\n",
              "          dataTable['output_type'] = 'display_data';\n",
              "          await google.colab.output.renderOutput(dataTable, element);\n",
              "          const docLink = document.createElement('div');\n",
              "          docLink.innerHTML = docLinkHtml;\n",
              "          element.appendChild(docLink);\n",
              "        }\n",
              "      </script>\n",
              "    </div>\n",
              "  </div>\n",
              "  "
            ]
          },
          "metadata": {},
          "execution_count": 96
        }
      ]
    },
    {
      "cell_type": "code",
      "source": [
        "df_2 = df.query(\"index >= '2023-02-01 00:00:00+03:00' & index < '2023-03-15 00:00:00+03:00'\")\n",
        "df_2"
      ],
      "metadata": {
        "colab": {
          "base_uri": "https://localhost:8080/",
          "height": 455
        },
        "id": "hVPY3d0nYvU8",
        "outputId": "098da147-b000-4624-a280-e53fda34090f"
      },
      "execution_count": null,
      "outputs": [
        {
          "output_type": "execute_result",
          "data": {
            "text/plain": [
              "                                Close\n",
              "Datetime                             \n",
              "2023-02-01 10:00:00+03:00   98.800003\n",
              "2023-02-01 11:00:00+03:00   98.699997\n",
              "2023-02-01 12:00:00+03:00   98.599998\n",
              "2023-02-01 13:00:00+03:00   98.699997\n",
              "2023-02-01 14:00:00+03:00   98.599998\n",
              "...                               ...\n",
              "2023-03-14 10:00:00+03:00  107.199997\n",
              "2023-03-14 11:00:00+03:00  107.199997\n",
              "2023-03-14 12:00:00+03:00  107.000000\n",
              "2023-03-14 13:00:00+03:00  106.800003\n",
              "2023-03-14 14:00:00+03:00  106.800003\n",
              "\n",
              "[142 rows x 1 columns]"
            ],
            "text/html": [
              "\n",
              "  <div id=\"df-dd585ebf-5e66-4f9c-b6e0-552e4c6da0f0\">\n",
              "    <div class=\"colab-df-container\">\n",
              "      <div>\n",
              "<style scoped>\n",
              "    .dataframe tbody tr th:only-of-type {\n",
              "        vertical-align: middle;\n",
              "    }\n",
              "\n",
              "    .dataframe tbody tr th {\n",
              "        vertical-align: top;\n",
              "    }\n",
              "\n",
              "    .dataframe thead th {\n",
              "        text-align: right;\n",
              "    }\n",
              "</style>\n",
              "<table border=\"1\" class=\"dataframe\">\n",
              "  <thead>\n",
              "    <tr style=\"text-align: right;\">\n",
              "      <th></th>\n",
              "      <th>Close</th>\n",
              "    </tr>\n",
              "    <tr>\n",
              "      <th>Datetime</th>\n",
              "      <th></th>\n",
              "    </tr>\n",
              "  </thead>\n",
              "  <tbody>\n",
              "    <tr>\n",
              "      <th>2023-02-01 10:00:00+03:00</th>\n",
              "      <td>98.800003</td>\n",
              "    </tr>\n",
              "    <tr>\n",
              "      <th>2023-02-01 11:00:00+03:00</th>\n",
              "      <td>98.699997</td>\n",
              "    </tr>\n",
              "    <tr>\n",
              "      <th>2023-02-01 12:00:00+03:00</th>\n",
              "      <td>98.599998</td>\n",
              "    </tr>\n",
              "    <tr>\n",
              "      <th>2023-02-01 13:00:00+03:00</th>\n",
              "      <td>98.699997</td>\n",
              "    </tr>\n",
              "    <tr>\n",
              "      <th>2023-02-01 14:00:00+03:00</th>\n",
              "      <td>98.599998</td>\n",
              "    </tr>\n",
              "    <tr>\n",
              "      <th>...</th>\n",
              "      <td>...</td>\n",
              "    </tr>\n",
              "    <tr>\n",
              "      <th>2023-03-14 10:00:00+03:00</th>\n",
              "      <td>107.199997</td>\n",
              "    </tr>\n",
              "    <tr>\n",
              "      <th>2023-03-14 11:00:00+03:00</th>\n",
              "      <td>107.199997</td>\n",
              "    </tr>\n",
              "    <tr>\n",
              "      <th>2023-03-14 12:00:00+03:00</th>\n",
              "      <td>107.000000</td>\n",
              "    </tr>\n",
              "    <tr>\n",
              "      <th>2023-03-14 13:00:00+03:00</th>\n",
              "      <td>106.800003</td>\n",
              "    </tr>\n",
              "    <tr>\n",
              "      <th>2023-03-14 14:00:00+03:00</th>\n",
              "      <td>106.800003</td>\n",
              "    </tr>\n",
              "  </tbody>\n",
              "</table>\n",
              "<p>142 rows × 1 columns</p>\n",
              "</div>\n",
              "      <button class=\"colab-df-convert\" onclick=\"convertToInteractive('df-dd585ebf-5e66-4f9c-b6e0-552e4c6da0f0')\"\n",
              "              title=\"Convert this dataframe to an interactive table.\"\n",
              "              style=\"display:none;\">\n",
              "        \n",
              "  <svg xmlns=\"http://www.w3.org/2000/svg\" height=\"24px\"viewBox=\"0 0 24 24\"\n",
              "       width=\"24px\">\n",
              "    <path d=\"M0 0h24v24H0V0z\" fill=\"none\"/>\n",
              "    <path d=\"M18.56 5.44l.94 2.06.94-2.06 2.06-.94-2.06-.94-.94-2.06-.94 2.06-2.06.94zm-11 1L8.5 8.5l.94-2.06 2.06-.94-2.06-.94L8.5 2.5l-.94 2.06-2.06.94zm10 10l.94 2.06.94-2.06 2.06-.94-2.06-.94-.94-2.06-.94 2.06-2.06.94z\"/><path d=\"M17.41 7.96l-1.37-1.37c-.4-.4-.92-.59-1.43-.59-.52 0-1.04.2-1.43.59L10.3 9.45l-7.72 7.72c-.78.78-.78 2.05 0 2.83L4 21.41c.39.39.9.59 1.41.59.51 0 1.02-.2 1.41-.59l7.78-7.78 2.81-2.81c.8-.78.8-2.07 0-2.86zM5.41 20L4 18.59l7.72-7.72 1.47 1.35L5.41 20z\"/>\n",
              "  </svg>\n",
              "      </button>\n",
              "      \n",
              "  <style>\n",
              "    .colab-df-container {\n",
              "      display:flex;\n",
              "      flex-wrap:wrap;\n",
              "      gap: 12px;\n",
              "    }\n",
              "\n",
              "    .colab-df-convert {\n",
              "      background-color: #E8F0FE;\n",
              "      border: none;\n",
              "      border-radius: 50%;\n",
              "      cursor: pointer;\n",
              "      display: none;\n",
              "      fill: #1967D2;\n",
              "      height: 32px;\n",
              "      padding: 0 0 0 0;\n",
              "      width: 32px;\n",
              "    }\n",
              "\n",
              "    .colab-df-convert:hover {\n",
              "      background-color: #E2EBFA;\n",
              "      box-shadow: 0px 1px 2px rgba(60, 64, 67, 0.3), 0px 1px 3px 1px rgba(60, 64, 67, 0.15);\n",
              "      fill: #174EA6;\n",
              "    }\n",
              "\n",
              "    [theme=dark] .colab-df-convert {\n",
              "      background-color: #3B4455;\n",
              "      fill: #D2E3FC;\n",
              "    }\n",
              "\n",
              "    [theme=dark] .colab-df-convert:hover {\n",
              "      background-color: #434B5C;\n",
              "      box-shadow: 0px 1px 3px 1px rgba(0, 0, 0, 0.15);\n",
              "      filter: drop-shadow(0px 1px 2px rgba(0, 0, 0, 0.3));\n",
              "      fill: #FFFFFF;\n",
              "    }\n",
              "  </style>\n",
              "\n",
              "      <script>\n",
              "        const buttonEl =\n",
              "          document.querySelector('#df-dd585ebf-5e66-4f9c-b6e0-552e4c6da0f0 button.colab-df-convert');\n",
              "        buttonEl.style.display =\n",
              "          google.colab.kernel.accessAllowed ? 'block' : 'none';\n",
              "\n",
              "        async function convertToInteractive(key) {\n",
              "          const element = document.querySelector('#df-dd585ebf-5e66-4f9c-b6e0-552e4c6da0f0');\n",
              "          const dataTable =\n",
              "            await google.colab.kernel.invokeFunction('convertToInteractive',\n",
              "                                                     [key], {});\n",
              "          if (!dataTable) return;\n",
              "\n",
              "          const docLinkHtml = 'Like what you see? Visit the ' +\n",
              "            '<a target=\"_blank\" href=https://colab.research.google.com/notebooks/data_table.ipynb>data table notebook</a>'\n",
              "            + ' to learn more about interactive tables.';\n",
              "          element.innerHTML = '';\n",
              "          dataTable['output_type'] = 'display_data';\n",
              "          await google.colab.output.renderOutput(dataTable, element);\n",
              "          const docLink = document.createElement('div');\n",
              "          docLink.innerHTML = docLinkHtml;\n",
              "          element.appendChild(docLink);\n",
              "        }\n",
              "      </script>\n",
              "    </div>\n",
              "  </div>\n",
              "  "
            ]
          },
          "metadata": {},
          "execution_count": 97
        }
      ]
    },
    {
      "cell_type": "code",
      "source": [
        "df_3 = df.query(\"index > '2023-03-15 00:00:00+03:00'\")\n",
        "df_3"
      ],
      "metadata": {
        "colab": {
          "base_uri": "https://localhost:8080/",
          "height": 455
        },
        "id": "ebAMMvrFYvfc",
        "outputId": "47721280-c65f-4593-c5c7-30695a02b6aa"
      },
      "execution_count": null,
      "outputs": [
        {
          "output_type": "execute_result",
          "data": {
            "text/plain": [
              "                                Close\n",
              "Datetime                             \n",
              "2023-03-15 10:00:00+03:00  107.000000\n",
              "2023-03-15 11:00:00+03:00  106.800003\n",
              "2023-03-15 12:00:00+03:00  107.000000\n",
              "2023-03-15 13:00:00+03:00  106.800003\n",
              "2023-03-15 14:00:00+03:00  105.000000\n",
              "...                               ...\n",
              "2023-05-01 10:00:00+03:00  113.400002\n",
              "2023-05-01 11:00:00+03:00  113.400002\n",
              "2023-05-01 12:00:00+03:00  113.199997\n",
              "2023-05-01 13:00:00+03:00  114.000000\n",
              "2023-05-01 14:00:00+03:00  114.800003\n",
              "\n",
              "[145 rows x 1 columns]"
            ],
            "text/html": [
              "\n",
              "  <div id=\"df-247359c8-f3c5-4adc-83d7-5551e522b067\">\n",
              "    <div class=\"colab-df-container\">\n",
              "      <div>\n",
              "<style scoped>\n",
              "    .dataframe tbody tr th:only-of-type {\n",
              "        vertical-align: middle;\n",
              "    }\n",
              "\n",
              "    .dataframe tbody tr th {\n",
              "        vertical-align: top;\n",
              "    }\n",
              "\n",
              "    .dataframe thead th {\n",
              "        text-align: right;\n",
              "    }\n",
              "</style>\n",
              "<table border=\"1\" class=\"dataframe\">\n",
              "  <thead>\n",
              "    <tr style=\"text-align: right;\">\n",
              "      <th></th>\n",
              "      <th>Close</th>\n",
              "    </tr>\n",
              "    <tr>\n",
              "      <th>Datetime</th>\n",
              "      <th></th>\n",
              "    </tr>\n",
              "  </thead>\n",
              "  <tbody>\n",
              "    <tr>\n",
              "      <th>2023-03-15 10:00:00+03:00</th>\n",
              "      <td>107.000000</td>\n",
              "    </tr>\n",
              "    <tr>\n",
              "      <th>2023-03-15 11:00:00+03:00</th>\n",
              "      <td>106.800003</td>\n",
              "    </tr>\n",
              "    <tr>\n",
              "      <th>2023-03-15 12:00:00+03:00</th>\n",
              "      <td>107.000000</td>\n",
              "    </tr>\n",
              "    <tr>\n",
              "      <th>2023-03-15 13:00:00+03:00</th>\n",
              "      <td>106.800003</td>\n",
              "    </tr>\n",
              "    <tr>\n",
              "      <th>2023-03-15 14:00:00+03:00</th>\n",
              "      <td>105.000000</td>\n",
              "    </tr>\n",
              "    <tr>\n",
              "      <th>...</th>\n",
              "      <td>...</td>\n",
              "    </tr>\n",
              "    <tr>\n",
              "      <th>2023-05-01 10:00:00+03:00</th>\n",
              "      <td>113.400002</td>\n",
              "    </tr>\n",
              "    <tr>\n",
              "      <th>2023-05-01 11:00:00+03:00</th>\n",
              "      <td>113.400002</td>\n",
              "    </tr>\n",
              "    <tr>\n",
              "      <th>2023-05-01 12:00:00+03:00</th>\n",
              "      <td>113.199997</td>\n",
              "    </tr>\n",
              "    <tr>\n",
              "      <th>2023-05-01 13:00:00+03:00</th>\n",
              "      <td>114.000000</td>\n",
              "    </tr>\n",
              "    <tr>\n",
              "      <th>2023-05-01 14:00:00+03:00</th>\n",
              "      <td>114.800003</td>\n",
              "    </tr>\n",
              "  </tbody>\n",
              "</table>\n",
              "<p>145 rows × 1 columns</p>\n",
              "</div>\n",
              "      <button class=\"colab-df-convert\" onclick=\"convertToInteractive('df-247359c8-f3c5-4adc-83d7-5551e522b067')\"\n",
              "              title=\"Convert this dataframe to an interactive table.\"\n",
              "              style=\"display:none;\">\n",
              "        \n",
              "  <svg xmlns=\"http://www.w3.org/2000/svg\" height=\"24px\"viewBox=\"0 0 24 24\"\n",
              "       width=\"24px\">\n",
              "    <path d=\"M0 0h24v24H0V0z\" fill=\"none\"/>\n",
              "    <path d=\"M18.56 5.44l.94 2.06.94-2.06 2.06-.94-2.06-.94-.94-2.06-.94 2.06-2.06.94zm-11 1L8.5 8.5l.94-2.06 2.06-.94-2.06-.94L8.5 2.5l-.94 2.06-2.06.94zm10 10l.94 2.06.94-2.06 2.06-.94-2.06-.94-.94-2.06-.94 2.06-2.06.94z\"/><path d=\"M17.41 7.96l-1.37-1.37c-.4-.4-.92-.59-1.43-.59-.52 0-1.04.2-1.43.59L10.3 9.45l-7.72 7.72c-.78.78-.78 2.05 0 2.83L4 21.41c.39.39.9.59 1.41.59.51 0 1.02-.2 1.41-.59l7.78-7.78 2.81-2.81c.8-.78.8-2.07 0-2.86zM5.41 20L4 18.59l7.72-7.72 1.47 1.35L5.41 20z\"/>\n",
              "  </svg>\n",
              "      </button>\n",
              "      \n",
              "  <style>\n",
              "    .colab-df-container {\n",
              "      display:flex;\n",
              "      flex-wrap:wrap;\n",
              "      gap: 12px;\n",
              "    }\n",
              "\n",
              "    .colab-df-convert {\n",
              "      background-color: #E8F0FE;\n",
              "      border: none;\n",
              "      border-radius: 50%;\n",
              "      cursor: pointer;\n",
              "      display: none;\n",
              "      fill: #1967D2;\n",
              "      height: 32px;\n",
              "      padding: 0 0 0 0;\n",
              "      width: 32px;\n",
              "    }\n",
              "\n",
              "    .colab-df-convert:hover {\n",
              "      background-color: #E2EBFA;\n",
              "      box-shadow: 0px 1px 2px rgba(60, 64, 67, 0.3), 0px 1px 3px 1px rgba(60, 64, 67, 0.15);\n",
              "      fill: #174EA6;\n",
              "    }\n",
              "\n",
              "    [theme=dark] .colab-df-convert {\n",
              "      background-color: #3B4455;\n",
              "      fill: #D2E3FC;\n",
              "    }\n",
              "\n",
              "    [theme=dark] .colab-df-convert:hover {\n",
              "      background-color: #434B5C;\n",
              "      box-shadow: 0px 1px 3px 1px rgba(0, 0, 0, 0.15);\n",
              "      filter: drop-shadow(0px 1px 2px rgba(0, 0, 0, 0.3));\n",
              "      fill: #FFFFFF;\n",
              "    }\n",
              "  </style>\n",
              "\n",
              "      <script>\n",
              "        const buttonEl =\n",
              "          document.querySelector('#df-247359c8-f3c5-4adc-83d7-5551e522b067 button.colab-df-convert');\n",
              "        buttonEl.style.display =\n",
              "          google.colab.kernel.accessAllowed ? 'block' : 'none';\n",
              "\n",
              "        async function convertToInteractive(key) {\n",
              "          const element = document.querySelector('#df-247359c8-f3c5-4adc-83d7-5551e522b067');\n",
              "          const dataTable =\n",
              "            await google.colab.kernel.invokeFunction('convertToInteractive',\n",
              "                                                     [key], {});\n",
              "          if (!dataTable) return;\n",
              "\n",
              "          const docLinkHtml = 'Like what you see? Visit the ' +\n",
              "            '<a target=\"_blank\" href=https://colab.research.google.com/notebooks/data_table.ipynb>data table notebook</a>'\n",
              "            + ' to learn more about interactive tables.';\n",
              "          element.innerHTML = '';\n",
              "          dataTable['output_type'] = 'display_data';\n",
              "          await google.colab.output.renderOutput(dataTable, element);\n",
              "          const docLink = document.createElement('div');\n",
              "          docLink.innerHTML = docLinkHtml;\n",
              "          element.appendChild(docLink);\n",
              "        }\n",
              "      </script>\n",
              "    </div>\n",
              "  </div>\n",
              "  "
            ]
          },
          "metadata": {},
          "execution_count": 98
        }
      ]
    },
    {
      "cell_type": "markdown",
      "source": [
        "### Разделим выборку на тестовую и обучающую"
      ],
      "metadata": {
        "id": "tUi9ATtQaZqd"
      }
    },
    {
      "cell_type": "code",
      "source": [
        "train_1, test_1 = df_1[0:106], df_1[106:]\n",
        "train_2, test_2 = df_2[0:120], df_2[120:]\n",
        "train_3, test_3 = df_3[0:124], df_3[124:]"
      ],
      "metadata": {
        "id": "52u0Hr1PaeBs"
      },
      "execution_count": null,
      "outputs": []
    },
    {
      "cell_type": "code",
      "source": [
        "p = range(0,5)\n",
        "d = range(0,5)\n",
        "q = range(0,10)\n",
        "pdq = list(itertools.product(p, d, q))\n",
        "best_params = (0,0,0)\n",
        "best_MSE = np.inf\n",
        "\n",
        "for params in tqdm(pdq):\n",
        "    \n",
        "    model_test = sm.tsa.arima.ARIMA(train_1.Close, order = params)\n",
        "    result_test = model_test.fit()\n",
        "    if result_test.mse < best_MSE:\n",
        "        best_params = params\n",
        "        best_MSE = result_test.mse\n",
        "        \n",
        "model_test = sm.tsa.arima.ARIMA(test_1.Close, order = best_params)\n",
        "result_test = model_test.fit()\n",
        "print('Best model on 1 block:', best_params, 'на train:',best_MSE, 'на test:', result_test.mse)"
      ],
      "metadata": {
        "colab": {
          "base_uri": "https://localhost:8080/",
          "height": 66,
          "referenced_widgets": [
            "b2be7edeef2444c7b8cb44676ef7dbd8",
            "5e121d162a3b4353b0069b0f7514e909",
            "ba3ff76b89b14cc4afc363b0015c3a8f",
            "1c1332a680374bf5946dc53e65027aba",
            "8edb10fee9ba4d18a1f5030533f88c2c",
            "a31fefe7783346b8971efdf5fd537b95",
            "6fd584f2c11545eeab4fcf01e919c3d0",
            "c20899c6f1054564b555da52812632b4",
            "4a42e1fb3d164f00b8790ccbfec9137b",
            "8758ea8176c74e0482bfca262a0ace3c",
            "9061aeec3874420cbb76b7838128860f"
          ]
        },
        "id": "SpJrMq2Vdx6R",
        "outputId": "bc2f10d1-74db-48d1-d5b4-a73391db7465"
      },
      "execution_count": null,
      "outputs": [
        {
          "output_type": "display_data",
          "data": {
            "text/plain": [
              "  0%|          | 0/250 [00:00<?, ?it/s]"
            ],
            "application/vnd.jupyter.widget-view+json": {
              "version_major": 2,
              "version_minor": 0,
              "model_id": "b2be7edeef2444c7b8cb44676ef7dbd8"
            }
          },
          "metadata": {}
        },
        {
          "output_type": "stream",
          "name": "stdout",
          "text": [
            "Best model on 1 block: (3, 0, 8) на train: 0.2643134718031871 на test: 0.059774010776352846\n"
          ]
        }
      ]
    },
    {
      "cell_type": "code",
      "source": [
        "p = range(0,5)\n",
        "d = range(0,5)\n",
        "q = range(0,10)\n",
        "pdq = list(itertools.product(p, d, q))\n",
        "best_params = (0,0,0)\n",
        "best_MSE = np.inf\n",
        "\n",
        "for params in tqdm(pdq):\n",
        "    \n",
        "    model_test = sm.tsa.arima.ARIMA(train_2.Close, order = params)\n",
        "    result_test = model_test.fit()\n",
        "    if result_test.mse < best_MSE:\n",
        "        best_params = params\n",
        "        best_MSE = result_test.mse\n",
        "        \n",
        "model_test = sm.tsa.arima.ARIMA(test_2.Close, order = best_params)\n",
        "result_test = model_test.fit()\n",
        "print('Best model on 2 block:', best_params, 'на train:',best_MSE, 'на test:', result_test.mse)"
      ],
      "metadata": {
        "colab": {
          "base_uri": "https://localhost:8080/",
          "height": 66,
          "referenced_widgets": [
            "021cab4c0a7f4ca6bc4ec4913fca9a49",
            "8aa7683c98dc42e99910fc6cb1da71a4",
            "736d2b924d7d4e2f91b058f1eb50afcc",
            "56ba25bfad994eea9bec9726ffcca757",
            "18bc9e3a39cd45dbb7dbeb0364cf3752",
            "0c2eacd0f59243188ffc45c8e3de0c50",
            "42db6cdfbfa24ae4bd72083aaeebfceb",
            "2a867efb30cc4fff9396a6078e387d1b",
            "954885b86b984a63aaefba16e4175a13",
            "3d4d99653c2f405ab9e5ee63ee3a67d7",
            "a8631f3db26f4a5dbe0174222e6f2e99"
          ]
        },
        "id": "wJObfin5aeHH",
        "outputId": "b50ae8f5-0756-4044-eafe-4f0ca9277155"
      },
      "execution_count": null,
      "outputs": [
        {
          "output_type": "display_data",
          "data": {
            "text/plain": [
              "  0%|          | 0/250 [00:00<?, ?it/s]"
            ],
            "application/vnd.jupyter.widget-view+json": {
              "version_major": 2,
              "version_minor": 0,
              "model_id": "021cab4c0a7f4ca6bc4ec4913fca9a49"
            }
          },
          "metadata": {}
        },
        {
          "output_type": "stream",
          "name": "stdout",
          "text": [
            "Best model on 2 block: (4, 0, 9) на train: 0.6535265896503675 на test: 0.13068005808375707\n"
          ]
        }
      ]
    },
    {
      "cell_type": "code",
      "source": [
        "p = range(0,5)\n",
        "d = range(0,5)\n",
        "q = range(0,10)\n",
        "pdq = list(itertools.product(p, d, q))\n",
        "best_params = (0,0,0)\n",
        "best_MSE = np.inf\n",
        "\n",
        "for params in tqdm(pdq):\n",
        "    \n",
        "    model_test = sm.tsa.arima.ARIMA(train_3.Close, order = params)\n",
        "    result_test = model_test.fit()\n",
        "    if result_test.mse < best_MSE:\n",
        "        best_params = params\n",
        "        best_MSE = result_test.mse\n",
        "        \n",
        "model_test = sm.tsa.arima.ARIMA(test_3.Close, order = best_params)\n",
        "result_test = model_test.fit()\n",
        "print('Best model on 3 block:', best_params, 'на train:',best_MSE, 'на test:', result_test.mse)"
      ],
      "metadata": {
        "colab": {
          "base_uri": "https://localhost:8080/",
          "height": 66,
          "referenced_widgets": [
            "249701f8fc8a4e0a870c222c78ca2605",
            "91a5b865668141d6ae30eaa3b19548d1",
            "9cd207d70aa74389bbf558890615c997",
            "470669591a4f42b981aacd96c487be10",
            "86f2a7505fb441e1bf6ba4594b066a1e",
            "d9d21b0d960f440f90e8176702ab7c23",
            "bdc94a776e554709afe91baefe58a648",
            "4398b2cb3cb0407b8c486088d0a3fc2b",
            "37142fb6ab664a9a81e37c84b1bc2baf",
            "279fbca088ff41428d1451321cbbe500",
            "c67fcb31191d4952a39582f073632a0d"
          ]
        },
        "id": "BIiF2PVkgBz5",
        "outputId": "233836a3-a34c-42f2-ee2f-f4b8fc2e5555"
      },
      "execution_count": null,
      "outputs": [
        {
          "output_type": "display_data",
          "data": {
            "text/plain": [
              "  0%|          | 0/250 [00:00<?, ?it/s]"
            ],
            "application/vnd.jupyter.widget-view+json": {
              "version_major": 2,
              "version_minor": 0,
              "model_id": "249701f8fc8a4e0a870c222c78ca2605"
            }
          },
          "metadata": {}
        },
        {
          "output_type": "stream",
          "name": "stdout",
          "text": [
            "Best model on 3 block: (4, 0, 9) на train: 0.5458238659109573 на test: 0.5274282194729063\n"
          ]
        }
      ]
    },
    {
      "cell_type": "markdown",
      "source": [
        "Из результатов моделирования видно, что лучшая модель на первом блоке данных имеет порядок (3,0,8) и достигает MSE на тренировочной выборке в размере 0.264, а на тестовой - 0.0598. Лучшая модель на втором блоке данных имеет порядок (4,0,9) и достигает MSE на тренировочной выборке в размере 0.6535, а на тестовой - 0.131. Лучшая модель на третьем блоке данных имеет порядок (4,0,9) и достигает MSE на тренировочной выборке в размере 0.5458, а на тестовой - 0.527.\n",
        "\n",
        "Модель с наименьшим значением MSE на тестовой выборке является наиболее предпочтительной для прогнозирования будущих значений. Следовательно, на основе результатов моделирования можно сделать вывод, что наиболее точная модель на тестовой выборке была построена на первом блоке данных и имеет порядок (3,0,8)."
      ],
      "metadata": {
        "id": "xiGwmYcOqB4Q"
      }
    }
  ],
  "metadata": {
    "colab": {
      "provenance": []
    },
    "kernelspec": {
      "display_name": "Python 3",
      "name": "python3"
    },
    "language_info": {
      "name": "python"
    },
    "widgets": {
      "application/vnd.jupyter.widget-state+json": {
        "a117fc9b91814a128fe7e9c6919594ce": {
          "model_module": "@jupyter-widgets/controls",
          "model_name": "HBoxModel",
          "model_module_version": "1.5.0",
          "state": {
            "_dom_classes": [],
            "_model_module": "@jupyter-widgets/controls",
            "_model_module_version": "1.5.0",
            "_model_name": "HBoxModel",
            "_view_count": null,
            "_view_module": "@jupyter-widgets/controls",
            "_view_module_version": "1.5.0",
            "_view_name": "HBoxView",
            "box_style": "",
            "children": [
              "IPY_MODEL_8e2b9b6539444b30b33351d796d092d2",
              "IPY_MODEL_c39c76ee8e6b4cbfb9f2a12cfbdc9f85",
              "IPY_MODEL_09a1ae49add14ff985bbcd88c744318a"
            ],
            "layout": "IPY_MODEL_af3a1e355a3f40528e8e38076848caab"
          }
        },
        "8e2b9b6539444b30b33351d796d092d2": {
          "model_module": "@jupyter-widgets/controls",
          "model_name": "HTMLModel",
          "model_module_version": "1.5.0",
          "state": {
            "_dom_classes": [],
            "_model_module": "@jupyter-widgets/controls",
            "_model_module_version": "1.5.0",
            "_model_name": "HTMLModel",
            "_view_count": null,
            "_view_module": "@jupyter-widgets/controls",
            "_view_module_version": "1.5.0",
            "_view_name": "HTMLView",
            "description": "",
            "description_tooltip": null,
            "layout": "IPY_MODEL_fa4735bdccf74d3d8ef80e06bf23ec06",
            "placeholder": "​",
            "style": "IPY_MODEL_2b63a9eab4cd4b5b955f8f189c25b217",
            "value": "100%"
          }
        },
        "c39c76ee8e6b4cbfb9f2a12cfbdc9f85": {
          "model_module": "@jupyter-widgets/controls",
          "model_name": "FloatProgressModel",
          "model_module_version": "1.5.0",
          "state": {
            "_dom_classes": [],
            "_model_module": "@jupyter-widgets/controls",
            "_model_module_version": "1.5.0",
            "_model_name": "FloatProgressModel",
            "_view_count": null,
            "_view_module": "@jupyter-widgets/controls",
            "_view_module_version": "1.5.0",
            "_view_name": "ProgressView",
            "bar_style": "success",
            "description": "",
            "description_tooltip": null,
            "layout": "IPY_MODEL_5aac3d003c0b4bcaa7414d5aa926511e",
            "max": 240,
            "min": 0,
            "orientation": "horizontal",
            "style": "IPY_MODEL_a1dad5e5516a4c5fad812c55d0e0776d",
            "value": 240
          }
        },
        "09a1ae49add14ff985bbcd88c744318a": {
          "model_module": "@jupyter-widgets/controls",
          "model_name": "HTMLModel",
          "model_module_version": "1.5.0",
          "state": {
            "_dom_classes": [],
            "_model_module": "@jupyter-widgets/controls",
            "_model_module_version": "1.5.0",
            "_model_name": "HTMLModel",
            "_view_count": null,
            "_view_module": "@jupyter-widgets/controls",
            "_view_module_version": "1.5.0",
            "_view_name": "HTMLView",
            "description": "",
            "description_tooltip": null,
            "layout": "IPY_MODEL_4e157e41918346b9a930f70fe730d226",
            "placeholder": "​",
            "style": "IPY_MODEL_9b1d342f19de480787b991c45ff5a5de",
            "value": " 240/240 [05:51&lt;00:00,  3.21s/it]"
          }
        },
        "af3a1e355a3f40528e8e38076848caab": {
          "model_module": "@jupyter-widgets/base",
          "model_name": "LayoutModel",
          "model_module_version": "1.2.0",
          "state": {
            "_model_module": "@jupyter-widgets/base",
            "_model_module_version": "1.2.0",
            "_model_name": "LayoutModel",
            "_view_count": null,
            "_view_module": "@jupyter-widgets/base",
            "_view_module_version": "1.2.0",
            "_view_name": "LayoutView",
            "align_content": null,
            "align_items": null,
            "align_self": null,
            "border": null,
            "bottom": null,
            "display": null,
            "flex": null,
            "flex_flow": null,
            "grid_area": null,
            "grid_auto_columns": null,
            "grid_auto_flow": null,
            "grid_auto_rows": null,
            "grid_column": null,
            "grid_gap": null,
            "grid_row": null,
            "grid_template_areas": null,
            "grid_template_columns": null,
            "grid_template_rows": null,
            "height": null,
            "justify_content": null,
            "justify_items": null,
            "left": null,
            "margin": null,
            "max_height": null,
            "max_width": null,
            "min_height": null,
            "min_width": null,
            "object_fit": null,
            "object_position": null,
            "order": null,
            "overflow": null,
            "overflow_x": null,
            "overflow_y": null,
            "padding": null,
            "right": null,
            "top": null,
            "visibility": null,
            "width": null
          }
        },
        "fa4735bdccf74d3d8ef80e06bf23ec06": {
          "model_module": "@jupyter-widgets/base",
          "model_name": "LayoutModel",
          "model_module_version": "1.2.0",
          "state": {
            "_model_module": "@jupyter-widgets/base",
            "_model_module_version": "1.2.0",
            "_model_name": "LayoutModel",
            "_view_count": null,
            "_view_module": "@jupyter-widgets/base",
            "_view_module_version": "1.2.0",
            "_view_name": "LayoutView",
            "align_content": null,
            "align_items": null,
            "align_self": null,
            "border": null,
            "bottom": null,
            "display": null,
            "flex": null,
            "flex_flow": null,
            "grid_area": null,
            "grid_auto_columns": null,
            "grid_auto_flow": null,
            "grid_auto_rows": null,
            "grid_column": null,
            "grid_gap": null,
            "grid_row": null,
            "grid_template_areas": null,
            "grid_template_columns": null,
            "grid_template_rows": null,
            "height": null,
            "justify_content": null,
            "justify_items": null,
            "left": null,
            "margin": null,
            "max_height": null,
            "max_width": null,
            "min_height": null,
            "min_width": null,
            "object_fit": null,
            "object_position": null,
            "order": null,
            "overflow": null,
            "overflow_x": null,
            "overflow_y": null,
            "padding": null,
            "right": null,
            "top": null,
            "visibility": null,
            "width": null
          }
        },
        "2b63a9eab4cd4b5b955f8f189c25b217": {
          "model_module": "@jupyter-widgets/controls",
          "model_name": "DescriptionStyleModel",
          "model_module_version": "1.5.0",
          "state": {
            "_model_module": "@jupyter-widgets/controls",
            "_model_module_version": "1.5.0",
            "_model_name": "DescriptionStyleModel",
            "_view_count": null,
            "_view_module": "@jupyter-widgets/base",
            "_view_module_version": "1.2.0",
            "_view_name": "StyleView",
            "description_width": ""
          }
        },
        "5aac3d003c0b4bcaa7414d5aa926511e": {
          "model_module": "@jupyter-widgets/base",
          "model_name": "LayoutModel",
          "model_module_version": "1.2.0",
          "state": {
            "_model_module": "@jupyter-widgets/base",
            "_model_module_version": "1.2.0",
            "_model_name": "LayoutModel",
            "_view_count": null,
            "_view_module": "@jupyter-widgets/base",
            "_view_module_version": "1.2.0",
            "_view_name": "LayoutView",
            "align_content": null,
            "align_items": null,
            "align_self": null,
            "border": null,
            "bottom": null,
            "display": null,
            "flex": null,
            "flex_flow": null,
            "grid_area": null,
            "grid_auto_columns": null,
            "grid_auto_flow": null,
            "grid_auto_rows": null,
            "grid_column": null,
            "grid_gap": null,
            "grid_row": null,
            "grid_template_areas": null,
            "grid_template_columns": null,
            "grid_template_rows": null,
            "height": null,
            "justify_content": null,
            "justify_items": null,
            "left": null,
            "margin": null,
            "max_height": null,
            "max_width": null,
            "min_height": null,
            "min_width": null,
            "object_fit": null,
            "object_position": null,
            "order": null,
            "overflow": null,
            "overflow_x": null,
            "overflow_y": null,
            "padding": null,
            "right": null,
            "top": null,
            "visibility": null,
            "width": null
          }
        },
        "a1dad5e5516a4c5fad812c55d0e0776d": {
          "model_module": "@jupyter-widgets/controls",
          "model_name": "ProgressStyleModel",
          "model_module_version": "1.5.0",
          "state": {
            "_model_module": "@jupyter-widgets/controls",
            "_model_module_version": "1.5.0",
            "_model_name": "ProgressStyleModel",
            "_view_count": null,
            "_view_module": "@jupyter-widgets/base",
            "_view_module_version": "1.2.0",
            "_view_name": "StyleView",
            "bar_color": null,
            "description_width": ""
          }
        },
        "4e157e41918346b9a930f70fe730d226": {
          "model_module": "@jupyter-widgets/base",
          "model_name": "LayoutModel",
          "model_module_version": "1.2.0",
          "state": {
            "_model_module": "@jupyter-widgets/base",
            "_model_module_version": "1.2.0",
            "_model_name": "LayoutModel",
            "_view_count": null,
            "_view_module": "@jupyter-widgets/base",
            "_view_module_version": "1.2.0",
            "_view_name": "LayoutView",
            "align_content": null,
            "align_items": null,
            "align_self": null,
            "border": null,
            "bottom": null,
            "display": null,
            "flex": null,
            "flex_flow": null,
            "grid_area": null,
            "grid_auto_columns": null,
            "grid_auto_flow": null,
            "grid_auto_rows": null,
            "grid_column": null,
            "grid_gap": null,
            "grid_row": null,
            "grid_template_areas": null,
            "grid_template_columns": null,
            "grid_template_rows": null,
            "height": null,
            "justify_content": null,
            "justify_items": null,
            "left": null,
            "margin": null,
            "max_height": null,
            "max_width": null,
            "min_height": null,
            "min_width": null,
            "object_fit": null,
            "object_position": null,
            "order": null,
            "overflow": null,
            "overflow_x": null,
            "overflow_y": null,
            "padding": null,
            "right": null,
            "top": null,
            "visibility": null,
            "width": null
          }
        },
        "9b1d342f19de480787b991c45ff5a5de": {
          "model_module": "@jupyter-widgets/controls",
          "model_name": "DescriptionStyleModel",
          "model_module_version": "1.5.0",
          "state": {
            "_model_module": "@jupyter-widgets/controls",
            "_model_module_version": "1.5.0",
            "_model_name": "DescriptionStyleModel",
            "_view_count": null,
            "_view_module": "@jupyter-widgets/base",
            "_view_module_version": "1.2.0",
            "_view_name": "StyleView",
            "description_width": ""
          }
        },
        "8952a1a4e806435ca7a2fd67ccfa081f": {
          "model_module": "@jupyter-widgets/controls",
          "model_name": "HBoxModel",
          "model_module_version": "1.5.0",
          "state": {
            "_dom_classes": [],
            "_model_module": "@jupyter-widgets/controls",
            "_model_module_version": "1.5.0",
            "_model_name": "HBoxModel",
            "_view_count": null,
            "_view_module": "@jupyter-widgets/controls",
            "_view_module_version": "1.5.0",
            "_view_name": "HBoxView",
            "box_style": "",
            "children": [
              "IPY_MODEL_dbb1d4c2c57d4c6abcd1d99e475e8766",
              "IPY_MODEL_b091735d2148493892b1194bbe7a0158",
              "IPY_MODEL_4a205915efb94e9db00ed0d7ec9b4f32"
            ],
            "layout": "IPY_MODEL_8740afbee3034ec08e1b4611dcdc1196"
          }
        },
        "dbb1d4c2c57d4c6abcd1d99e475e8766": {
          "model_module": "@jupyter-widgets/controls",
          "model_name": "HTMLModel",
          "model_module_version": "1.5.0",
          "state": {
            "_dom_classes": [],
            "_model_module": "@jupyter-widgets/controls",
            "_model_module_version": "1.5.0",
            "_model_name": "HTMLModel",
            "_view_count": null,
            "_view_module": "@jupyter-widgets/controls",
            "_view_module_version": "1.5.0",
            "_view_name": "HTMLView",
            "description": "",
            "description_tooltip": null,
            "layout": "IPY_MODEL_20851668627a4e3f80eece64542b76b4",
            "placeholder": "​",
            "style": "IPY_MODEL_01784050cb4f4b38ad03cf91b958aa7f",
            "value": "100%"
          }
        },
        "b091735d2148493892b1194bbe7a0158": {
          "model_module": "@jupyter-widgets/controls",
          "model_name": "FloatProgressModel",
          "model_module_version": "1.5.0",
          "state": {
            "_dom_classes": [],
            "_model_module": "@jupyter-widgets/controls",
            "_model_module_version": "1.5.0",
            "_model_name": "FloatProgressModel",
            "_view_count": null,
            "_view_module": "@jupyter-widgets/controls",
            "_view_module_version": "1.5.0",
            "_view_name": "ProgressView",
            "bar_style": "success",
            "description": "",
            "description_tooltip": null,
            "layout": "IPY_MODEL_d3d21333dd6a42f3ac8a7f24736313d7",
            "max": 240,
            "min": 0,
            "orientation": "horizontal",
            "style": "IPY_MODEL_0d19899984444afe843ea0f8119fbed6",
            "value": 240
          }
        },
        "4a205915efb94e9db00ed0d7ec9b4f32": {
          "model_module": "@jupyter-widgets/controls",
          "model_name": "HTMLModel",
          "model_module_version": "1.5.0",
          "state": {
            "_dom_classes": [],
            "_model_module": "@jupyter-widgets/controls",
            "_model_module_version": "1.5.0",
            "_model_name": "HTMLModel",
            "_view_count": null,
            "_view_module": "@jupyter-widgets/controls",
            "_view_module_version": "1.5.0",
            "_view_name": "HTMLView",
            "description": "",
            "description_tooltip": null,
            "layout": "IPY_MODEL_47124fb6ca144d0dabb5877ebd992cb9",
            "placeholder": "​",
            "style": "IPY_MODEL_68d24b9251fb463eb030c822b78e9249",
            "value": " 240/240 [05:57&lt;00:00,  3.08s/it]"
          }
        },
        "8740afbee3034ec08e1b4611dcdc1196": {
          "model_module": "@jupyter-widgets/base",
          "model_name": "LayoutModel",
          "model_module_version": "1.2.0",
          "state": {
            "_model_module": "@jupyter-widgets/base",
            "_model_module_version": "1.2.0",
            "_model_name": "LayoutModel",
            "_view_count": null,
            "_view_module": "@jupyter-widgets/base",
            "_view_module_version": "1.2.0",
            "_view_name": "LayoutView",
            "align_content": null,
            "align_items": null,
            "align_self": null,
            "border": null,
            "bottom": null,
            "display": null,
            "flex": null,
            "flex_flow": null,
            "grid_area": null,
            "grid_auto_columns": null,
            "grid_auto_flow": null,
            "grid_auto_rows": null,
            "grid_column": null,
            "grid_gap": null,
            "grid_row": null,
            "grid_template_areas": null,
            "grid_template_columns": null,
            "grid_template_rows": null,
            "height": null,
            "justify_content": null,
            "justify_items": null,
            "left": null,
            "margin": null,
            "max_height": null,
            "max_width": null,
            "min_height": null,
            "min_width": null,
            "object_fit": null,
            "object_position": null,
            "order": null,
            "overflow": null,
            "overflow_x": null,
            "overflow_y": null,
            "padding": null,
            "right": null,
            "top": null,
            "visibility": null,
            "width": null
          }
        },
        "20851668627a4e3f80eece64542b76b4": {
          "model_module": "@jupyter-widgets/base",
          "model_name": "LayoutModel",
          "model_module_version": "1.2.0",
          "state": {
            "_model_module": "@jupyter-widgets/base",
            "_model_module_version": "1.2.0",
            "_model_name": "LayoutModel",
            "_view_count": null,
            "_view_module": "@jupyter-widgets/base",
            "_view_module_version": "1.2.0",
            "_view_name": "LayoutView",
            "align_content": null,
            "align_items": null,
            "align_self": null,
            "border": null,
            "bottom": null,
            "display": null,
            "flex": null,
            "flex_flow": null,
            "grid_area": null,
            "grid_auto_columns": null,
            "grid_auto_flow": null,
            "grid_auto_rows": null,
            "grid_column": null,
            "grid_gap": null,
            "grid_row": null,
            "grid_template_areas": null,
            "grid_template_columns": null,
            "grid_template_rows": null,
            "height": null,
            "justify_content": null,
            "justify_items": null,
            "left": null,
            "margin": null,
            "max_height": null,
            "max_width": null,
            "min_height": null,
            "min_width": null,
            "object_fit": null,
            "object_position": null,
            "order": null,
            "overflow": null,
            "overflow_x": null,
            "overflow_y": null,
            "padding": null,
            "right": null,
            "top": null,
            "visibility": null,
            "width": null
          }
        },
        "01784050cb4f4b38ad03cf91b958aa7f": {
          "model_module": "@jupyter-widgets/controls",
          "model_name": "DescriptionStyleModel",
          "model_module_version": "1.5.0",
          "state": {
            "_model_module": "@jupyter-widgets/controls",
            "_model_module_version": "1.5.0",
            "_model_name": "DescriptionStyleModel",
            "_view_count": null,
            "_view_module": "@jupyter-widgets/base",
            "_view_module_version": "1.2.0",
            "_view_name": "StyleView",
            "description_width": ""
          }
        },
        "d3d21333dd6a42f3ac8a7f24736313d7": {
          "model_module": "@jupyter-widgets/base",
          "model_name": "LayoutModel",
          "model_module_version": "1.2.0",
          "state": {
            "_model_module": "@jupyter-widgets/base",
            "_model_module_version": "1.2.0",
            "_model_name": "LayoutModel",
            "_view_count": null,
            "_view_module": "@jupyter-widgets/base",
            "_view_module_version": "1.2.0",
            "_view_name": "LayoutView",
            "align_content": null,
            "align_items": null,
            "align_self": null,
            "border": null,
            "bottom": null,
            "display": null,
            "flex": null,
            "flex_flow": null,
            "grid_area": null,
            "grid_auto_columns": null,
            "grid_auto_flow": null,
            "grid_auto_rows": null,
            "grid_column": null,
            "grid_gap": null,
            "grid_row": null,
            "grid_template_areas": null,
            "grid_template_columns": null,
            "grid_template_rows": null,
            "height": null,
            "justify_content": null,
            "justify_items": null,
            "left": null,
            "margin": null,
            "max_height": null,
            "max_width": null,
            "min_height": null,
            "min_width": null,
            "object_fit": null,
            "object_position": null,
            "order": null,
            "overflow": null,
            "overflow_x": null,
            "overflow_y": null,
            "padding": null,
            "right": null,
            "top": null,
            "visibility": null,
            "width": null
          }
        },
        "0d19899984444afe843ea0f8119fbed6": {
          "model_module": "@jupyter-widgets/controls",
          "model_name": "ProgressStyleModel",
          "model_module_version": "1.5.0",
          "state": {
            "_model_module": "@jupyter-widgets/controls",
            "_model_module_version": "1.5.0",
            "_model_name": "ProgressStyleModel",
            "_view_count": null,
            "_view_module": "@jupyter-widgets/base",
            "_view_module_version": "1.2.0",
            "_view_name": "StyleView",
            "bar_color": null,
            "description_width": ""
          }
        },
        "47124fb6ca144d0dabb5877ebd992cb9": {
          "model_module": "@jupyter-widgets/base",
          "model_name": "LayoutModel",
          "model_module_version": "1.2.0",
          "state": {
            "_model_module": "@jupyter-widgets/base",
            "_model_module_version": "1.2.0",
            "_model_name": "LayoutModel",
            "_view_count": null,
            "_view_module": "@jupyter-widgets/base",
            "_view_module_version": "1.2.0",
            "_view_name": "LayoutView",
            "align_content": null,
            "align_items": null,
            "align_self": null,
            "border": null,
            "bottom": null,
            "display": null,
            "flex": null,
            "flex_flow": null,
            "grid_area": null,
            "grid_auto_columns": null,
            "grid_auto_flow": null,
            "grid_auto_rows": null,
            "grid_column": null,
            "grid_gap": null,
            "grid_row": null,
            "grid_template_areas": null,
            "grid_template_columns": null,
            "grid_template_rows": null,
            "height": null,
            "justify_content": null,
            "justify_items": null,
            "left": null,
            "margin": null,
            "max_height": null,
            "max_width": null,
            "min_height": null,
            "min_width": null,
            "object_fit": null,
            "object_position": null,
            "order": null,
            "overflow": null,
            "overflow_x": null,
            "overflow_y": null,
            "padding": null,
            "right": null,
            "top": null,
            "visibility": null,
            "width": null
          }
        },
        "68d24b9251fb463eb030c822b78e9249": {
          "model_module": "@jupyter-widgets/controls",
          "model_name": "DescriptionStyleModel",
          "model_module_version": "1.5.0",
          "state": {
            "_model_module": "@jupyter-widgets/controls",
            "_model_module_version": "1.5.0",
            "_model_name": "DescriptionStyleModel",
            "_view_count": null,
            "_view_module": "@jupyter-widgets/base",
            "_view_module_version": "1.2.0",
            "_view_name": "StyleView",
            "description_width": ""
          }
        },
        "b2be7edeef2444c7b8cb44676ef7dbd8": {
          "model_module": "@jupyter-widgets/controls",
          "model_name": "HBoxModel",
          "model_module_version": "1.5.0",
          "state": {
            "_dom_classes": [],
            "_model_module": "@jupyter-widgets/controls",
            "_model_module_version": "1.5.0",
            "_model_name": "HBoxModel",
            "_view_count": null,
            "_view_module": "@jupyter-widgets/controls",
            "_view_module_version": "1.5.0",
            "_view_name": "HBoxView",
            "box_style": "",
            "children": [
              "IPY_MODEL_5e121d162a3b4353b0069b0f7514e909",
              "IPY_MODEL_ba3ff76b89b14cc4afc363b0015c3a8f",
              "IPY_MODEL_1c1332a680374bf5946dc53e65027aba"
            ],
            "layout": "IPY_MODEL_8edb10fee9ba4d18a1f5030533f88c2c"
          }
        },
        "5e121d162a3b4353b0069b0f7514e909": {
          "model_module": "@jupyter-widgets/controls",
          "model_name": "HTMLModel",
          "model_module_version": "1.5.0",
          "state": {
            "_dom_classes": [],
            "_model_module": "@jupyter-widgets/controls",
            "_model_module_version": "1.5.0",
            "_model_name": "HTMLModel",
            "_view_count": null,
            "_view_module": "@jupyter-widgets/controls",
            "_view_module_version": "1.5.0",
            "_view_name": "HTMLView",
            "description": "",
            "description_tooltip": null,
            "layout": "IPY_MODEL_a31fefe7783346b8971efdf5fd537b95",
            "placeholder": "​",
            "style": "IPY_MODEL_6fd584f2c11545eeab4fcf01e919c3d0",
            "value": "100%"
          }
        },
        "ba3ff76b89b14cc4afc363b0015c3a8f": {
          "model_module": "@jupyter-widgets/controls",
          "model_name": "FloatProgressModel",
          "model_module_version": "1.5.0",
          "state": {
            "_dom_classes": [],
            "_model_module": "@jupyter-widgets/controls",
            "_model_module_version": "1.5.0",
            "_model_name": "FloatProgressModel",
            "_view_count": null,
            "_view_module": "@jupyter-widgets/controls",
            "_view_module_version": "1.5.0",
            "_view_name": "ProgressView",
            "bar_style": "success",
            "description": "",
            "description_tooltip": null,
            "layout": "IPY_MODEL_c20899c6f1054564b555da52812632b4",
            "max": 250,
            "min": 0,
            "orientation": "horizontal",
            "style": "IPY_MODEL_4a42e1fb3d164f00b8790ccbfec9137b",
            "value": 250
          }
        },
        "1c1332a680374bf5946dc53e65027aba": {
          "model_module": "@jupyter-widgets/controls",
          "model_name": "HTMLModel",
          "model_module_version": "1.5.0",
          "state": {
            "_dom_classes": [],
            "_model_module": "@jupyter-widgets/controls",
            "_model_module_version": "1.5.0",
            "_model_name": "HTMLModel",
            "_view_count": null,
            "_view_module": "@jupyter-widgets/controls",
            "_view_module_version": "1.5.0",
            "_view_name": "HTMLView",
            "description": "",
            "description_tooltip": null,
            "layout": "IPY_MODEL_8758ea8176c74e0482bfca262a0ace3c",
            "placeholder": "​",
            "style": "IPY_MODEL_9061aeec3874420cbb76b7838128860f",
            "value": " 250/250 [03:01&lt;00:00,  1.93s/it]"
          }
        },
        "8edb10fee9ba4d18a1f5030533f88c2c": {
          "model_module": "@jupyter-widgets/base",
          "model_name": "LayoutModel",
          "model_module_version": "1.2.0",
          "state": {
            "_model_module": "@jupyter-widgets/base",
            "_model_module_version": "1.2.0",
            "_model_name": "LayoutModel",
            "_view_count": null,
            "_view_module": "@jupyter-widgets/base",
            "_view_module_version": "1.2.0",
            "_view_name": "LayoutView",
            "align_content": null,
            "align_items": null,
            "align_self": null,
            "border": null,
            "bottom": null,
            "display": null,
            "flex": null,
            "flex_flow": null,
            "grid_area": null,
            "grid_auto_columns": null,
            "grid_auto_flow": null,
            "grid_auto_rows": null,
            "grid_column": null,
            "grid_gap": null,
            "grid_row": null,
            "grid_template_areas": null,
            "grid_template_columns": null,
            "grid_template_rows": null,
            "height": null,
            "justify_content": null,
            "justify_items": null,
            "left": null,
            "margin": null,
            "max_height": null,
            "max_width": null,
            "min_height": null,
            "min_width": null,
            "object_fit": null,
            "object_position": null,
            "order": null,
            "overflow": null,
            "overflow_x": null,
            "overflow_y": null,
            "padding": null,
            "right": null,
            "top": null,
            "visibility": null,
            "width": null
          }
        },
        "a31fefe7783346b8971efdf5fd537b95": {
          "model_module": "@jupyter-widgets/base",
          "model_name": "LayoutModel",
          "model_module_version": "1.2.0",
          "state": {
            "_model_module": "@jupyter-widgets/base",
            "_model_module_version": "1.2.0",
            "_model_name": "LayoutModel",
            "_view_count": null,
            "_view_module": "@jupyter-widgets/base",
            "_view_module_version": "1.2.0",
            "_view_name": "LayoutView",
            "align_content": null,
            "align_items": null,
            "align_self": null,
            "border": null,
            "bottom": null,
            "display": null,
            "flex": null,
            "flex_flow": null,
            "grid_area": null,
            "grid_auto_columns": null,
            "grid_auto_flow": null,
            "grid_auto_rows": null,
            "grid_column": null,
            "grid_gap": null,
            "grid_row": null,
            "grid_template_areas": null,
            "grid_template_columns": null,
            "grid_template_rows": null,
            "height": null,
            "justify_content": null,
            "justify_items": null,
            "left": null,
            "margin": null,
            "max_height": null,
            "max_width": null,
            "min_height": null,
            "min_width": null,
            "object_fit": null,
            "object_position": null,
            "order": null,
            "overflow": null,
            "overflow_x": null,
            "overflow_y": null,
            "padding": null,
            "right": null,
            "top": null,
            "visibility": null,
            "width": null
          }
        },
        "6fd584f2c11545eeab4fcf01e919c3d0": {
          "model_module": "@jupyter-widgets/controls",
          "model_name": "DescriptionStyleModel",
          "model_module_version": "1.5.0",
          "state": {
            "_model_module": "@jupyter-widgets/controls",
            "_model_module_version": "1.5.0",
            "_model_name": "DescriptionStyleModel",
            "_view_count": null,
            "_view_module": "@jupyter-widgets/base",
            "_view_module_version": "1.2.0",
            "_view_name": "StyleView",
            "description_width": ""
          }
        },
        "c20899c6f1054564b555da52812632b4": {
          "model_module": "@jupyter-widgets/base",
          "model_name": "LayoutModel",
          "model_module_version": "1.2.0",
          "state": {
            "_model_module": "@jupyter-widgets/base",
            "_model_module_version": "1.2.0",
            "_model_name": "LayoutModel",
            "_view_count": null,
            "_view_module": "@jupyter-widgets/base",
            "_view_module_version": "1.2.0",
            "_view_name": "LayoutView",
            "align_content": null,
            "align_items": null,
            "align_self": null,
            "border": null,
            "bottom": null,
            "display": null,
            "flex": null,
            "flex_flow": null,
            "grid_area": null,
            "grid_auto_columns": null,
            "grid_auto_flow": null,
            "grid_auto_rows": null,
            "grid_column": null,
            "grid_gap": null,
            "grid_row": null,
            "grid_template_areas": null,
            "grid_template_columns": null,
            "grid_template_rows": null,
            "height": null,
            "justify_content": null,
            "justify_items": null,
            "left": null,
            "margin": null,
            "max_height": null,
            "max_width": null,
            "min_height": null,
            "min_width": null,
            "object_fit": null,
            "object_position": null,
            "order": null,
            "overflow": null,
            "overflow_x": null,
            "overflow_y": null,
            "padding": null,
            "right": null,
            "top": null,
            "visibility": null,
            "width": null
          }
        },
        "4a42e1fb3d164f00b8790ccbfec9137b": {
          "model_module": "@jupyter-widgets/controls",
          "model_name": "ProgressStyleModel",
          "model_module_version": "1.5.0",
          "state": {
            "_model_module": "@jupyter-widgets/controls",
            "_model_module_version": "1.5.0",
            "_model_name": "ProgressStyleModel",
            "_view_count": null,
            "_view_module": "@jupyter-widgets/base",
            "_view_module_version": "1.2.0",
            "_view_name": "StyleView",
            "bar_color": null,
            "description_width": ""
          }
        },
        "8758ea8176c74e0482bfca262a0ace3c": {
          "model_module": "@jupyter-widgets/base",
          "model_name": "LayoutModel",
          "model_module_version": "1.2.0",
          "state": {
            "_model_module": "@jupyter-widgets/base",
            "_model_module_version": "1.2.0",
            "_model_name": "LayoutModel",
            "_view_count": null,
            "_view_module": "@jupyter-widgets/base",
            "_view_module_version": "1.2.0",
            "_view_name": "LayoutView",
            "align_content": null,
            "align_items": null,
            "align_self": null,
            "border": null,
            "bottom": null,
            "display": null,
            "flex": null,
            "flex_flow": null,
            "grid_area": null,
            "grid_auto_columns": null,
            "grid_auto_flow": null,
            "grid_auto_rows": null,
            "grid_column": null,
            "grid_gap": null,
            "grid_row": null,
            "grid_template_areas": null,
            "grid_template_columns": null,
            "grid_template_rows": null,
            "height": null,
            "justify_content": null,
            "justify_items": null,
            "left": null,
            "margin": null,
            "max_height": null,
            "max_width": null,
            "min_height": null,
            "min_width": null,
            "object_fit": null,
            "object_position": null,
            "order": null,
            "overflow": null,
            "overflow_x": null,
            "overflow_y": null,
            "padding": null,
            "right": null,
            "top": null,
            "visibility": null,
            "width": null
          }
        },
        "9061aeec3874420cbb76b7838128860f": {
          "model_module": "@jupyter-widgets/controls",
          "model_name": "DescriptionStyleModel",
          "model_module_version": "1.5.0",
          "state": {
            "_model_module": "@jupyter-widgets/controls",
            "_model_module_version": "1.5.0",
            "_model_name": "DescriptionStyleModel",
            "_view_count": null,
            "_view_module": "@jupyter-widgets/base",
            "_view_module_version": "1.2.0",
            "_view_name": "StyleView",
            "description_width": ""
          }
        },
        "021cab4c0a7f4ca6bc4ec4913fca9a49": {
          "model_module": "@jupyter-widgets/controls",
          "model_name": "HBoxModel",
          "model_module_version": "1.5.0",
          "state": {
            "_dom_classes": [],
            "_model_module": "@jupyter-widgets/controls",
            "_model_module_version": "1.5.0",
            "_model_name": "HBoxModel",
            "_view_count": null,
            "_view_module": "@jupyter-widgets/controls",
            "_view_module_version": "1.5.0",
            "_view_name": "HBoxView",
            "box_style": "",
            "children": [
              "IPY_MODEL_8aa7683c98dc42e99910fc6cb1da71a4",
              "IPY_MODEL_736d2b924d7d4e2f91b058f1eb50afcc",
              "IPY_MODEL_56ba25bfad994eea9bec9726ffcca757"
            ],
            "layout": "IPY_MODEL_18bc9e3a39cd45dbb7dbeb0364cf3752"
          }
        },
        "8aa7683c98dc42e99910fc6cb1da71a4": {
          "model_module": "@jupyter-widgets/controls",
          "model_name": "HTMLModel",
          "model_module_version": "1.5.0",
          "state": {
            "_dom_classes": [],
            "_model_module": "@jupyter-widgets/controls",
            "_model_module_version": "1.5.0",
            "_model_name": "HTMLModel",
            "_view_count": null,
            "_view_module": "@jupyter-widgets/controls",
            "_view_module_version": "1.5.0",
            "_view_name": "HTMLView",
            "description": "",
            "description_tooltip": null,
            "layout": "IPY_MODEL_0c2eacd0f59243188ffc45c8e3de0c50",
            "placeholder": "​",
            "style": "IPY_MODEL_42db6cdfbfa24ae4bd72083aaeebfceb",
            "value": "100%"
          }
        },
        "736d2b924d7d4e2f91b058f1eb50afcc": {
          "model_module": "@jupyter-widgets/controls",
          "model_name": "FloatProgressModel",
          "model_module_version": "1.5.0",
          "state": {
            "_dom_classes": [],
            "_model_module": "@jupyter-widgets/controls",
            "_model_module_version": "1.5.0",
            "_model_name": "FloatProgressModel",
            "_view_count": null,
            "_view_module": "@jupyter-widgets/controls",
            "_view_module_version": "1.5.0",
            "_view_name": "ProgressView",
            "bar_style": "success",
            "description": "",
            "description_tooltip": null,
            "layout": "IPY_MODEL_2a867efb30cc4fff9396a6078e387d1b",
            "max": 250,
            "min": 0,
            "orientation": "horizontal",
            "style": "IPY_MODEL_954885b86b984a63aaefba16e4175a13",
            "value": 250
          }
        },
        "56ba25bfad994eea9bec9726ffcca757": {
          "model_module": "@jupyter-widgets/controls",
          "model_name": "HTMLModel",
          "model_module_version": "1.5.0",
          "state": {
            "_dom_classes": [],
            "_model_module": "@jupyter-widgets/controls",
            "_model_module_version": "1.5.0",
            "_model_name": "HTMLModel",
            "_view_count": null,
            "_view_module": "@jupyter-widgets/controls",
            "_view_module_version": "1.5.0",
            "_view_name": "HTMLView",
            "description": "",
            "description_tooltip": null,
            "layout": "IPY_MODEL_3d4d99653c2f405ab9e5ee63ee3a67d7",
            "placeholder": "​",
            "style": "IPY_MODEL_a8631f3db26f4a5dbe0174222e6f2e99",
            "value": " 250/250 [02:59&lt;00:00,  1.54s/it]"
          }
        },
        "18bc9e3a39cd45dbb7dbeb0364cf3752": {
          "model_module": "@jupyter-widgets/base",
          "model_name": "LayoutModel",
          "model_module_version": "1.2.0",
          "state": {
            "_model_module": "@jupyter-widgets/base",
            "_model_module_version": "1.2.0",
            "_model_name": "LayoutModel",
            "_view_count": null,
            "_view_module": "@jupyter-widgets/base",
            "_view_module_version": "1.2.0",
            "_view_name": "LayoutView",
            "align_content": null,
            "align_items": null,
            "align_self": null,
            "border": null,
            "bottom": null,
            "display": null,
            "flex": null,
            "flex_flow": null,
            "grid_area": null,
            "grid_auto_columns": null,
            "grid_auto_flow": null,
            "grid_auto_rows": null,
            "grid_column": null,
            "grid_gap": null,
            "grid_row": null,
            "grid_template_areas": null,
            "grid_template_columns": null,
            "grid_template_rows": null,
            "height": null,
            "justify_content": null,
            "justify_items": null,
            "left": null,
            "margin": null,
            "max_height": null,
            "max_width": null,
            "min_height": null,
            "min_width": null,
            "object_fit": null,
            "object_position": null,
            "order": null,
            "overflow": null,
            "overflow_x": null,
            "overflow_y": null,
            "padding": null,
            "right": null,
            "top": null,
            "visibility": null,
            "width": null
          }
        },
        "0c2eacd0f59243188ffc45c8e3de0c50": {
          "model_module": "@jupyter-widgets/base",
          "model_name": "LayoutModel",
          "model_module_version": "1.2.0",
          "state": {
            "_model_module": "@jupyter-widgets/base",
            "_model_module_version": "1.2.0",
            "_model_name": "LayoutModel",
            "_view_count": null,
            "_view_module": "@jupyter-widgets/base",
            "_view_module_version": "1.2.0",
            "_view_name": "LayoutView",
            "align_content": null,
            "align_items": null,
            "align_self": null,
            "border": null,
            "bottom": null,
            "display": null,
            "flex": null,
            "flex_flow": null,
            "grid_area": null,
            "grid_auto_columns": null,
            "grid_auto_flow": null,
            "grid_auto_rows": null,
            "grid_column": null,
            "grid_gap": null,
            "grid_row": null,
            "grid_template_areas": null,
            "grid_template_columns": null,
            "grid_template_rows": null,
            "height": null,
            "justify_content": null,
            "justify_items": null,
            "left": null,
            "margin": null,
            "max_height": null,
            "max_width": null,
            "min_height": null,
            "min_width": null,
            "object_fit": null,
            "object_position": null,
            "order": null,
            "overflow": null,
            "overflow_x": null,
            "overflow_y": null,
            "padding": null,
            "right": null,
            "top": null,
            "visibility": null,
            "width": null
          }
        },
        "42db6cdfbfa24ae4bd72083aaeebfceb": {
          "model_module": "@jupyter-widgets/controls",
          "model_name": "DescriptionStyleModel",
          "model_module_version": "1.5.0",
          "state": {
            "_model_module": "@jupyter-widgets/controls",
            "_model_module_version": "1.5.0",
            "_model_name": "DescriptionStyleModel",
            "_view_count": null,
            "_view_module": "@jupyter-widgets/base",
            "_view_module_version": "1.2.0",
            "_view_name": "StyleView",
            "description_width": ""
          }
        },
        "2a867efb30cc4fff9396a6078e387d1b": {
          "model_module": "@jupyter-widgets/base",
          "model_name": "LayoutModel",
          "model_module_version": "1.2.0",
          "state": {
            "_model_module": "@jupyter-widgets/base",
            "_model_module_version": "1.2.0",
            "_model_name": "LayoutModel",
            "_view_count": null,
            "_view_module": "@jupyter-widgets/base",
            "_view_module_version": "1.2.0",
            "_view_name": "LayoutView",
            "align_content": null,
            "align_items": null,
            "align_self": null,
            "border": null,
            "bottom": null,
            "display": null,
            "flex": null,
            "flex_flow": null,
            "grid_area": null,
            "grid_auto_columns": null,
            "grid_auto_flow": null,
            "grid_auto_rows": null,
            "grid_column": null,
            "grid_gap": null,
            "grid_row": null,
            "grid_template_areas": null,
            "grid_template_columns": null,
            "grid_template_rows": null,
            "height": null,
            "justify_content": null,
            "justify_items": null,
            "left": null,
            "margin": null,
            "max_height": null,
            "max_width": null,
            "min_height": null,
            "min_width": null,
            "object_fit": null,
            "object_position": null,
            "order": null,
            "overflow": null,
            "overflow_x": null,
            "overflow_y": null,
            "padding": null,
            "right": null,
            "top": null,
            "visibility": null,
            "width": null
          }
        },
        "954885b86b984a63aaefba16e4175a13": {
          "model_module": "@jupyter-widgets/controls",
          "model_name": "ProgressStyleModel",
          "model_module_version": "1.5.0",
          "state": {
            "_model_module": "@jupyter-widgets/controls",
            "_model_module_version": "1.5.0",
            "_model_name": "ProgressStyleModel",
            "_view_count": null,
            "_view_module": "@jupyter-widgets/base",
            "_view_module_version": "1.2.0",
            "_view_name": "StyleView",
            "bar_color": null,
            "description_width": ""
          }
        },
        "3d4d99653c2f405ab9e5ee63ee3a67d7": {
          "model_module": "@jupyter-widgets/base",
          "model_name": "LayoutModel",
          "model_module_version": "1.2.0",
          "state": {
            "_model_module": "@jupyter-widgets/base",
            "_model_module_version": "1.2.0",
            "_model_name": "LayoutModel",
            "_view_count": null,
            "_view_module": "@jupyter-widgets/base",
            "_view_module_version": "1.2.0",
            "_view_name": "LayoutView",
            "align_content": null,
            "align_items": null,
            "align_self": null,
            "border": null,
            "bottom": null,
            "display": null,
            "flex": null,
            "flex_flow": null,
            "grid_area": null,
            "grid_auto_columns": null,
            "grid_auto_flow": null,
            "grid_auto_rows": null,
            "grid_column": null,
            "grid_gap": null,
            "grid_row": null,
            "grid_template_areas": null,
            "grid_template_columns": null,
            "grid_template_rows": null,
            "height": null,
            "justify_content": null,
            "justify_items": null,
            "left": null,
            "margin": null,
            "max_height": null,
            "max_width": null,
            "min_height": null,
            "min_width": null,
            "object_fit": null,
            "object_position": null,
            "order": null,
            "overflow": null,
            "overflow_x": null,
            "overflow_y": null,
            "padding": null,
            "right": null,
            "top": null,
            "visibility": null,
            "width": null
          }
        },
        "a8631f3db26f4a5dbe0174222e6f2e99": {
          "model_module": "@jupyter-widgets/controls",
          "model_name": "DescriptionStyleModel",
          "model_module_version": "1.5.0",
          "state": {
            "_model_module": "@jupyter-widgets/controls",
            "_model_module_version": "1.5.0",
            "_model_name": "DescriptionStyleModel",
            "_view_count": null,
            "_view_module": "@jupyter-widgets/base",
            "_view_module_version": "1.2.0",
            "_view_name": "StyleView",
            "description_width": ""
          }
        },
        "249701f8fc8a4e0a870c222c78ca2605": {
          "model_module": "@jupyter-widgets/controls",
          "model_name": "HBoxModel",
          "model_module_version": "1.5.0",
          "state": {
            "_dom_classes": [],
            "_model_module": "@jupyter-widgets/controls",
            "_model_module_version": "1.5.0",
            "_model_name": "HBoxModel",
            "_view_count": null,
            "_view_module": "@jupyter-widgets/controls",
            "_view_module_version": "1.5.0",
            "_view_name": "HBoxView",
            "box_style": "",
            "children": [
              "IPY_MODEL_91a5b865668141d6ae30eaa3b19548d1",
              "IPY_MODEL_9cd207d70aa74389bbf558890615c997",
              "IPY_MODEL_470669591a4f42b981aacd96c487be10"
            ],
            "layout": "IPY_MODEL_86f2a7505fb441e1bf6ba4594b066a1e"
          }
        },
        "91a5b865668141d6ae30eaa3b19548d1": {
          "model_module": "@jupyter-widgets/controls",
          "model_name": "HTMLModel",
          "model_module_version": "1.5.0",
          "state": {
            "_dom_classes": [],
            "_model_module": "@jupyter-widgets/controls",
            "_model_module_version": "1.5.0",
            "_model_name": "HTMLModel",
            "_view_count": null,
            "_view_module": "@jupyter-widgets/controls",
            "_view_module_version": "1.5.0",
            "_view_name": "HTMLView",
            "description": "",
            "description_tooltip": null,
            "layout": "IPY_MODEL_d9d21b0d960f440f90e8176702ab7c23",
            "placeholder": "​",
            "style": "IPY_MODEL_bdc94a776e554709afe91baefe58a648",
            "value": "100%"
          }
        },
        "9cd207d70aa74389bbf558890615c997": {
          "model_module": "@jupyter-widgets/controls",
          "model_name": "FloatProgressModel",
          "model_module_version": "1.5.0",
          "state": {
            "_dom_classes": [],
            "_model_module": "@jupyter-widgets/controls",
            "_model_module_version": "1.5.0",
            "_model_name": "FloatProgressModel",
            "_view_count": null,
            "_view_module": "@jupyter-widgets/controls",
            "_view_module_version": "1.5.0",
            "_view_name": "ProgressView",
            "bar_style": "success",
            "description": "",
            "description_tooltip": null,
            "layout": "IPY_MODEL_4398b2cb3cb0407b8c486088d0a3fc2b",
            "max": 250,
            "min": 0,
            "orientation": "horizontal",
            "style": "IPY_MODEL_37142fb6ab664a9a81e37c84b1bc2baf",
            "value": 250
          }
        },
        "470669591a4f42b981aacd96c487be10": {
          "model_module": "@jupyter-widgets/controls",
          "model_name": "HTMLModel",
          "model_module_version": "1.5.0",
          "state": {
            "_dom_classes": [],
            "_model_module": "@jupyter-widgets/controls",
            "_model_module_version": "1.5.0",
            "_model_name": "HTMLModel",
            "_view_count": null,
            "_view_module": "@jupyter-widgets/controls",
            "_view_module_version": "1.5.0",
            "_view_name": "HTMLView",
            "description": "",
            "description_tooltip": null,
            "layout": "IPY_MODEL_279fbca088ff41428d1451321cbbe500",
            "placeholder": "​",
            "style": "IPY_MODEL_c67fcb31191d4952a39582f073632a0d",
            "value": " 250/250 [03:07&lt;00:00,  1.33s/it]"
          }
        },
        "86f2a7505fb441e1bf6ba4594b066a1e": {
          "model_module": "@jupyter-widgets/base",
          "model_name": "LayoutModel",
          "model_module_version": "1.2.0",
          "state": {
            "_model_module": "@jupyter-widgets/base",
            "_model_module_version": "1.2.0",
            "_model_name": "LayoutModel",
            "_view_count": null,
            "_view_module": "@jupyter-widgets/base",
            "_view_module_version": "1.2.0",
            "_view_name": "LayoutView",
            "align_content": null,
            "align_items": null,
            "align_self": null,
            "border": null,
            "bottom": null,
            "display": null,
            "flex": null,
            "flex_flow": null,
            "grid_area": null,
            "grid_auto_columns": null,
            "grid_auto_flow": null,
            "grid_auto_rows": null,
            "grid_column": null,
            "grid_gap": null,
            "grid_row": null,
            "grid_template_areas": null,
            "grid_template_columns": null,
            "grid_template_rows": null,
            "height": null,
            "justify_content": null,
            "justify_items": null,
            "left": null,
            "margin": null,
            "max_height": null,
            "max_width": null,
            "min_height": null,
            "min_width": null,
            "object_fit": null,
            "object_position": null,
            "order": null,
            "overflow": null,
            "overflow_x": null,
            "overflow_y": null,
            "padding": null,
            "right": null,
            "top": null,
            "visibility": null,
            "width": null
          }
        },
        "d9d21b0d960f440f90e8176702ab7c23": {
          "model_module": "@jupyter-widgets/base",
          "model_name": "LayoutModel",
          "model_module_version": "1.2.0",
          "state": {
            "_model_module": "@jupyter-widgets/base",
            "_model_module_version": "1.2.0",
            "_model_name": "LayoutModel",
            "_view_count": null,
            "_view_module": "@jupyter-widgets/base",
            "_view_module_version": "1.2.0",
            "_view_name": "LayoutView",
            "align_content": null,
            "align_items": null,
            "align_self": null,
            "border": null,
            "bottom": null,
            "display": null,
            "flex": null,
            "flex_flow": null,
            "grid_area": null,
            "grid_auto_columns": null,
            "grid_auto_flow": null,
            "grid_auto_rows": null,
            "grid_column": null,
            "grid_gap": null,
            "grid_row": null,
            "grid_template_areas": null,
            "grid_template_columns": null,
            "grid_template_rows": null,
            "height": null,
            "justify_content": null,
            "justify_items": null,
            "left": null,
            "margin": null,
            "max_height": null,
            "max_width": null,
            "min_height": null,
            "min_width": null,
            "object_fit": null,
            "object_position": null,
            "order": null,
            "overflow": null,
            "overflow_x": null,
            "overflow_y": null,
            "padding": null,
            "right": null,
            "top": null,
            "visibility": null,
            "width": null
          }
        },
        "bdc94a776e554709afe91baefe58a648": {
          "model_module": "@jupyter-widgets/controls",
          "model_name": "DescriptionStyleModel",
          "model_module_version": "1.5.0",
          "state": {
            "_model_module": "@jupyter-widgets/controls",
            "_model_module_version": "1.5.0",
            "_model_name": "DescriptionStyleModel",
            "_view_count": null,
            "_view_module": "@jupyter-widgets/base",
            "_view_module_version": "1.2.0",
            "_view_name": "StyleView",
            "description_width": ""
          }
        },
        "4398b2cb3cb0407b8c486088d0a3fc2b": {
          "model_module": "@jupyter-widgets/base",
          "model_name": "LayoutModel",
          "model_module_version": "1.2.0",
          "state": {
            "_model_module": "@jupyter-widgets/base",
            "_model_module_version": "1.2.0",
            "_model_name": "LayoutModel",
            "_view_count": null,
            "_view_module": "@jupyter-widgets/base",
            "_view_module_version": "1.2.0",
            "_view_name": "LayoutView",
            "align_content": null,
            "align_items": null,
            "align_self": null,
            "border": null,
            "bottom": null,
            "display": null,
            "flex": null,
            "flex_flow": null,
            "grid_area": null,
            "grid_auto_columns": null,
            "grid_auto_flow": null,
            "grid_auto_rows": null,
            "grid_column": null,
            "grid_gap": null,
            "grid_row": null,
            "grid_template_areas": null,
            "grid_template_columns": null,
            "grid_template_rows": null,
            "height": null,
            "justify_content": null,
            "justify_items": null,
            "left": null,
            "margin": null,
            "max_height": null,
            "max_width": null,
            "min_height": null,
            "min_width": null,
            "object_fit": null,
            "object_position": null,
            "order": null,
            "overflow": null,
            "overflow_x": null,
            "overflow_y": null,
            "padding": null,
            "right": null,
            "top": null,
            "visibility": null,
            "width": null
          }
        },
        "37142fb6ab664a9a81e37c84b1bc2baf": {
          "model_module": "@jupyter-widgets/controls",
          "model_name": "ProgressStyleModel",
          "model_module_version": "1.5.0",
          "state": {
            "_model_module": "@jupyter-widgets/controls",
            "_model_module_version": "1.5.0",
            "_model_name": "ProgressStyleModel",
            "_view_count": null,
            "_view_module": "@jupyter-widgets/base",
            "_view_module_version": "1.2.0",
            "_view_name": "StyleView",
            "bar_color": null,
            "description_width": ""
          }
        },
        "279fbca088ff41428d1451321cbbe500": {
          "model_module": "@jupyter-widgets/base",
          "model_name": "LayoutModel",
          "model_module_version": "1.2.0",
          "state": {
            "_model_module": "@jupyter-widgets/base",
            "_model_module_version": "1.2.0",
            "_model_name": "LayoutModel",
            "_view_count": null,
            "_view_module": "@jupyter-widgets/base",
            "_view_module_version": "1.2.0",
            "_view_name": "LayoutView",
            "align_content": null,
            "align_items": null,
            "align_self": null,
            "border": null,
            "bottom": null,
            "display": null,
            "flex": null,
            "flex_flow": null,
            "grid_area": null,
            "grid_auto_columns": null,
            "grid_auto_flow": null,
            "grid_auto_rows": null,
            "grid_column": null,
            "grid_gap": null,
            "grid_row": null,
            "grid_template_areas": null,
            "grid_template_columns": null,
            "grid_template_rows": null,
            "height": null,
            "justify_content": null,
            "justify_items": null,
            "left": null,
            "margin": null,
            "max_height": null,
            "max_width": null,
            "min_height": null,
            "min_width": null,
            "object_fit": null,
            "object_position": null,
            "order": null,
            "overflow": null,
            "overflow_x": null,
            "overflow_y": null,
            "padding": null,
            "right": null,
            "top": null,
            "visibility": null,
            "width": null
          }
        },
        "c67fcb31191d4952a39582f073632a0d": {
          "model_module": "@jupyter-widgets/controls",
          "model_name": "DescriptionStyleModel",
          "model_module_version": "1.5.0",
          "state": {
            "_model_module": "@jupyter-widgets/controls",
            "_model_module_version": "1.5.0",
            "_model_name": "DescriptionStyleModel",
            "_view_count": null,
            "_view_module": "@jupyter-widgets/base",
            "_view_module_version": "1.2.0",
            "_view_name": "StyleView",
            "description_width": ""
          }
        }
      }
    }
  },
  "nbformat": 4,
  "nbformat_minor": 0
}